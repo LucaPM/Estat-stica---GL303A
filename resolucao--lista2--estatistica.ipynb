{
 "cells": [
  {
   "cell_type": "code",
   "execution_count": 1,
   "metadata": {},
   "outputs": [],
   "source": [
    "import statistics\n",
    "import matplotlib.pyplot as plt\n",
    "import numpy as np\n",
    "import seaborn as sns\n",
    "import pandas as pd"
   ]
  },
  {
   "cell_type": "code",
   "execution_count": null,
   "metadata": {},
   "outputs": [],
   "source": [
    "#questao 1"
   ]
  },
  {
   "cell_type": "code",
   "execution_count": 5,
   "metadata": {},
   "outputs": [
    {
     "name": "stdout",
     "output_type": "stream",
     "text": [
      "56\n"
     ]
    }
   ],
   "source": [
    "val = np.array([2,56,7,88,90,44,67,56,7,8,67]) \n",
    "\n",
    "n = int(len(val))   # <------ n eh o numero de elementos do conjunto\n",
    "\n",
    "if n % 2 != 0:\n",
    "    val_ord = sorted(val)\n",
    "    posicao = int((n+1)/2)   # <-------- calculo da posicao do em que se encontra a mediana, para n impar\n",
    "    mediana_impar = val_ord[posicao-1]\n",
    "    print(mediana_impar)\n",
    "else:\n",
    "    val_ord = sorted(val)\n",
    "    posicao1 = int(n/2)    # <------- calculo da posicao 1, para n par\n",
    "    posicao2 = int((n+2)/2)  # <-------- calculo da posicao 2, para n par\n",
    "    mediana_par = (val_ord[posicao1-1] + val_ord[posicao2-1])/2  # <---- mediana eh a media aritmetica dos elementos das duas posicoes\n",
    "    print(mediana_par)"
   ]
  },
  {
   "cell_type": "code",
   "execution_count": null,
   "metadata": {},
   "outputs": [],
   "source": []
  },
  {
   "cell_type": "code",
   "execution_count": null,
   "metadata": {},
   "outputs": [],
   "source": [
    "#questao 2"
   ]
  },
  {
   "cell_type": "code",
   "execution_count": 2,
   "metadata": {},
   "outputs": [
    {
     "data": {
      "text/html": [
       "<div>\n",
       "<style scoped>\n",
       "    .dataframe tbody tr th:only-of-type {\n",
       "        vertical-align: middle;\n",
       "    }\n",
       "\n",
       "    .dataframe tbody tr th {\n",
       "        vertical-align: top;\n",
       "    }\n",
       "\n",
       "    .dataframe thead th {\n",
       "        text-align: right;\n",
       "    }\n",
       "</style>\n",
       "<table border=\"1\" class=\"dataframe\">\n",
       "  <thead>\n",
       "    <tr style=\"text-align: right;\">\n",
       "      <th></th>\n",
       "      <th>total_bill</th>\n",
       "      <th>tip</th>\n",
       "      <th>sex</th>\n",
       "      <th>smoker</th>\n",
       "      <th>day</th>\n",
       "      <th>time</th>\n",
       "      <th>size</th>\n",
       "    </tr>\n",
       "  </thead>\n",
       "  <tbody>\n",
       "    <tr>\n",
       "      <th>0</th>\n",
       "      <td>16.99</td>\n",
       "      <td>1.01</td>\n",
       "      <td>Female</td>\n",
       "      <td>No</td>\n",
       "      <td>Sun</td>\n",
       "      <td>Dinner</td>\n",
       "      <td>2</td>\n",
       "    </tr>\n",
       "    <tr>\n",
       "      <th>1</th>\n",
       "      <td>10.34</td>\n",
       "      <td>1.66</td>\n",
       "      <td>Male</td>\n",
       "      <td>No</td>\n",
       "      <td>Sun</td>\n",
       "      <td>Dinner</td>\n",
       "      <td>3</td>\n",
       "    </tr>\n",
       "    <tr>\n",
       "      <th>2</th>\n",
       "      <td>21.01</td>\n",
       "      <td>3.50</td>\n",
       "      <td>Male</td>\n",
       "      <td>No</td>\n",
       "      <td>Sun</td>\n",
       "      <td>Dinner</td>\n",
       "      <td>3</td>\n",
       "    </tr>\n",
       "    <tr>\n",
       "      <th>3</th>\n",
       "      <td>23.68</td>\n",
       "      <td>3.31</td>\n",
       "      <td>Male</td>\n",
       "      <td>No</td>\n",
       "      <td>Sun</td>\n",
       "      <td>Dinner</td>\n",
       "      <td>2</td>\n",
       "    </tr>\n",
       "    <tr>\n",
       "      <th>4</th>\n",
       "      <td>24.59</td>\n",
       "      <td>3.61</td>\n",
       "      <td>Female</td>\n",
       "      <td>No</td>\n",
       "      <td>Sun</td>\n",
       "      <td>Dinner</td>\n",
       "      <td>4</td>\n",
       "    </tr>\n",
       "  </tbody>\n",
       "</table>\n",
       "</div>"
      ],
      "text/plain": [
       "   total_bill   tip     sex smoker  day    time  size\n",
       "0       16.99  1.01  Female     No  Sun  Dinner     2\n",
       "1       10.34  1.66    Male     No  Sun  Dinner     3\n",
       "2       21.01  3.50    Male     No  Sun  Dinner     3\n",
       "3       23.68  3.31    Male     No  Sun  Dinner     2\n",
       "4       24.59  3.61  Female     No  Sun  Dinner     4"
      ]
     },
     "execution_count": 2,
     "metadata": {},
     "output_type": "execute_result"
    }
   ],
   "source": [
    "tp = sns.load_dataset('tips')\n",
    "tp.head()"
   ]
  },
  {
   "cell_type": "code",
   "execution_count": 3,
   "metadata": {},
   "outputs": [
    {
     "data": {
      "text/plain": [
       "<AxesSubplot:>"
      ]
     },
     "execution_count": 3,
     "metadata": {},
     "output_type": "execute_result"
    },
    {
     "data": {
      "image/png": "[encoded data removed]",
      "text/plain": [
       "<Figure size 432x288 with 1 Axes>"
      ]
     },
     "metadata": {
      "needs_background": "light"
     },
     "output_type": "display_data"
    }
   ],
   "source": [
    "sns.boxplot(data = tp.total_bill)"
   ]
  },
  {
   "cell_type": "code",
   "execution_count": 9,
   "metadata": {},
   "outputs": [
    {
     "data": {
      "text/plain": [
       "<AxesSubplot:xlabel='total_bill', ylabel='tip'>"
      ]
     },
     "execution_count": 9,
     "metadata": {},
     "output_type": "execute_result"
    },
    {
     "data": {
      "image/png": "[encoded data removed]",
      "text/plain": [
       "<Figure size 432x288 with 1 Axes>"
      ]
     },
     "metadata": {
      "needs_background": "light"
     },
     "output_type": "display_data"
    }
   ],
   "source": [
    "sns.scatterplot(x = 'total_bill',y = 'tip', data = tp, hue ='time')"
   ]
  },
  {
   "cell_type": "code",
   "execution_count": 5,
   "metadata": {},
   "outputs": [],
   "source": [
    "dinner = tp[tp.time == 'Dinner']"
   ]
  },
  {
   "cell_type": "code",
   "execution_count": null,
   "metadata": {},
   "outputs": [],
   "source": [
    "#questao 3"
   ]
  },
  {
   "cell_type": "code",
   "execution_count": 6,
   "metadata": {},
   "outputs": [
    {
     "name": "stdout",
     "output_type": "stream",
     "text": [
      "20.79715909090909\n",
      "18.39\n"
     ]
    }
   ],
   "source": [
    "print(statistics.mean(dinner.total_bill))\n",
    "print(statistics.median(dinner.total_bill))"
   ]
  },
  {
   "cell_type": "code",
   "execution_count": null,
   "metadata": {},
   "outputs": [],
   "source": [
    "#questao 4\n",
    "\n",
    "# <----- moda eh a unica que pode assumir mais de um valor. exemplo abaixo, temos duas modas."
   ]
  },
  {
   "cell_type": "code",
   "execution_count": 12,
   "metadata": {},
   "outputs": [
    {
     "data": {
      "text/html": [
       "<div>\n",
       "<style scoped>\n",
       "    .dataframe tbody tr th:only-of-type {\n",
       "        vertical-align: middle;\n",
       "    }\n",
       "\n",
       "    .dataframe tbody tr th {\n",
       "        vertical-align: top;\n",
       "    }\n",
       "\n",
       "    .dataframe thead th {\n",
       "        text-align: right;\n",
       "    }\n",
       "</style>\n",
       "<table border=\"1\" class=\"dataframe\">\n",
       "  <thead>\n",
       "    <tr style=\"text-align: right;\">\n",
       "      <th></th>\n",
       "      <th>sepal_length</th>\n",
       "      <th>sepal_width</th>\n",
       "      <th>petal_length</th>\n",
       "      <th>petal_width</th>\n",
       "      <th>species</th>\n",
       "    </tr>\n",
       "  </thead>\n",
       "  <tbody>\n",
       "    <tr>\n",
       "      <th>0</th>\n",
       "      <td>5.1</td>\n",
       "      <td>3.5</td>\n",
       "      <td>1.4</td>\n",
       "      <td>0.2</td>\n",
       "      <td>setosa</td>\n",
       "    </tr>\n",
       "    <tr>\n",
       "      <th>1</th>\n",
       "      <td>4.9</td>\n",
       "      <td>3.0</td>\n",
       "      <td>1.4</td>\n",
       "      <td>0.2</td>\n",
       "      <td>setosa</td>\n",
       "    </tr>\n",
       "    <tr>\n",
       "      <th>2</th>\n",
       "      <td>4.7</td>\n",
       "      <td>3.2</td>\n",
       "      <td>1.3</td>\n",
       "      <td>0.2</td>\n",
       "      <td>setosa</td>\n",
       "    </tr>\n",
       "    <tr>\n",
       "      <th>3</th>\n",
       "      <td>4.6</td>\n",
       "      <td>3.1</td>\n",
       "      <td>1.5</td>\n",
       "      <td>0.2</td>\n",
       "      <td>setosa</td>\n",
       "    </tr>\n",
       "    <tr>\n",
       "      <th>4</th>\n",
       "      <td>5.0</td>\n",
       "      <td>3.6</td>\n",
       "      <td>1.4</td>\n",
       "      <td>0.2</td>\n",
       "      <td>setosa</td>\n",
       "    </tr>\n",
       "  </tbody>\n",
       "</table>\n",
       "</div>"
      ],
      "text/plain": [
       "   sepal_length  sepal_width  petal_length  petal_width species\n",
       "0           5.1          3.5           1.4          0.2  setosa\n",
       "1           4.9          3.0           1.4          0.2  setosa\n",
       "2           4.7          3.2           1.3          0.2  setosa\n",
       "3           4.6          3.1           1.5          0.2  setosa\n",
       "4           5.0          3.6           1.4          0.2  setosa"
      ]
     },
     "execution_count": 12,
     "metadata": {},
     "output_type": "execute_result"
    }
   ],
   "source": [
    "iris = sns.load_dataset('iris')\n",
    "iris.head()"
   ]
  },
  {
   "cell_type": "code",
   "execution_count": 13,
   "metadata": {},
   "outputs": [
    {
     "name": "stdout",
     "output_type": "stream",
     "text": [
      "[1.4, 1.5]\n"
     ]
    }
   ],
   "source": [
    "print(statistics.multimode(iris.petal_length))"
   ]
  },
  {
   "cell_type": "code",
   "execution_count": null,
   "metadata": {},
   "outputs": [],
   "source": [
    "#questao 5"
   ]
  },
  {
   "cell_type": "code",
   "execution_count": 14,
   "metadata": {},
   "outputs": [],
   "source": [
    "array1 = np.array([16,17,17,17.5,17.5,17.5,18,18,19])\n",
    "array2 = np.array([16,16,16,12,13,8,10,10,16,13,6])\n",
    "array3 = np.array([2,2,2,4,4,6,10])"
   ]
  },
  {
   "cell_type": "code",
   "execution_count": 15,
   "metadata": {},
   "outputs": [
    {
     "data": {
      "text/plain": [
       "<AxesSubplot:ylabel='Count'>"
      ]
     },
     "execution_count": 15,
     "metadata": {},
     "output_type": "execute_result"
    },
    {
     "data": {
      "image/png": "[encoded data removed]",
      "text/plain": [
       "<Figure size 432x288 with 1 Axes>"
      ]
     },
     "metadata": {
      "needs_background": "light"
     },
     "output_type": "display_data"
    }
   ],
   "source": [
    "sns.histplot(array1)"
   ]
  },
  {
   "cell_type": "code",
   "execution_count": 17,
   "metadata": {},
   "outputs": [
    {
     "name": "stdout",
     "output_type": "stream",
     "text": [
      "17.5\n",
      "17.5\n",
      "[17.5]\n"
     ]
    }
   ],
   "source": [
    "print(np.mean(array1))\n",
    "print(np.median(array1))\n",
    "print(statistics.multimode(array1))\n",
    "# para histogramas simetricos, as tres medidas sao iguais"
   ]
  },
  {
   "cell_type": "code",
   "execution_count": 16,
   "metadata": {},
   "outputs": [
    {
     "data": {
      "text/plain": [
       "<AxesSubplot:ylabel='Count'>"
      ]
     },
     "execution_count": 16,
     "metadata": {},
     "output_type": "execute_result"
    },
    {
     "data": {
      "image/png": "[encoded data removed]",
      "text/plain": [
       "<Figure size 432x288 with 1 Axes>"
      ]
     },
     "metadata": {
      "needs_background": "light"
     },
     "output_type": "display_data"
    }
   ],
   "source": [
    "sns.histplot(array2)"
   ]
  },
  {
   "cell_type": "code",
   "execution_count": 18,
   "metadata": {},
   "outputs": [
    {
     "name": "stdout",
     "output_type": "stream",
     "text": [
      "12.363636363636363\n",
      "13.0\n",
      "[16]\n"
     ]
    }
   ],
   "source": [
    "print(np.mean(array2))\n",
    "print(np.median(array2))\n",
    "print(statistics.multimode(array2))\n",
    "# para histogramas assimetricos a esquerda, moda>mediana>media"
   ]
  },
  {
   "cell_type": "code",
   "execution_count": 19,
   "metadata": {},
   "outputs": [
    {
     "data": {
      "text/plain": [
       "<AxesSubplot:ylabel='Count'>"
      ]
     },
     "execution_count": 19,
     "metadata": {},
     "output_type": "execute_result"
    },
    {
     "data": {
      "image/png": "[encoded data removed]",
      "text/plain": [
       "<Figure size 432x288 with 1 Axes>"
      ]
     },
     "metadata": {
      "needs_background": "light"
     },
     "output_type": "display_data"
    }
   ],
   "source": [
    "sns.histplot(array3)"
   ]
  },
  {
   "cell_type": "code",
   "execution_count": 20,
   "metadata": {},
   "outputs": [
    {
     "name": "stdout",
     "output_type": "stream",
     "text": [
      "4.285714285714286\n",
      "4.0\n",
      "[2]\n"
     ]
    }
   ],
   "source": [
    "print(np.mean(array3))\n",
    "print(np.median(array3))\n",
    "print(statistics.multimode(array3))\n",
    "# para histogramas assimetricos a direita, moda>media>mediana"
   ]
  },
  {
   "cell_type": "code",
   "execution_count": null,
   "metadata": {},
   "outputs": [],
   "source": [
    "#questao 6"
   ]
  },
  {
   "cell_type": "code",
   "execution_count": null,
   "metadata": {},
   "outputs": [],
   "source": [
    "# em um conjunto que apresenta outliers, seja em assimetria a esquerda ou a direita, o melhor eh usar a mediana como\n",
    "#medida de tendencia central"
   ]
  },
  {
   "cell_type": "code",
   "execution_count": null,
   "metadata": {},
   "outputs": [],
   "source": [
    "#medidas descritivas para os datasets"
   ]
  },
  {
   "cell_type": "code",
   "execution_count": 21,
   "metadata": {},
   "outputs": [],
   "source": [
    "def media(array):\n",
    "    return float(round(np.mean(array), 2))\n",
    "\n",
    "def mediana(array):\n",
    "    return float(round(np.median(array), 2))\n",
    "\n",
    "def moda(array):\n",
    "    if statistics.multimode(array) == array:\n",
    "        print('o dataset nao possui moda. todos os valores tem a mesma frequencia')\n",
    "    else:\n",
    "        return list(statistics.multimode(array))\n",
    "\n",
    "def dp_amostra(array):\n",
    "    return float(round(statistics.stdev(array), 2))\n",
    "\n",
    "def dp_pop(array):\n",
    "    return float(round(statistics.pstdev(array), 2))\n",
    "\n",
    "def variancia_amostra(array):\n",
    "    return float(round(statistics.pvariance(dataset), 2))\n",
    "\n",
    "def variancia_pop(array):\n",
    "    return float(round(statistics.pvariance(dataset), 2))\n",
    "\n",
    "def amplitude(array):\n",
    "    return float(max(array) - min(array))"
   ]
  },
  {
   "cell_type": "code",
   "execution_count": 22,
   "metadata": {},
   "outputs": [
    {
     "name": "stdout",
     "output_type": "stream",
     "text": [
      "3.0\n",
      "3.5\n",
      "o dataset nao possui moda. todos os valores tem a mesma frequencia\n",
      "None\n"
     ]
    }
   ],
   "source": [
    "#questao 7\n",
    "dataset = [5,-7,2,0,-9,16,10,7]\n",
    "print(media(dataset))\n",
    "print(mediana(dataset))\n",
    "print(moda(dataset))"
   ]
  },
  {
   "cell_type": "code",
   "execution_count": 23,
   "metadata": {},
   "outputs": [
    {
     "name": "stdout",
     "output_type": "stream",
     "text": [
      "3.67\n",
      "8.0\n",
      "[8]\n"
     ]
    }
   ],
   "source": [
    "#questao 8\n",
    "dataset2 = [14,18,-10,8,8,-16]\n",
    "print(media(dataset2))\n",
    "print(mediana(dataset2))\n",
    "print(moda(dataset2))"
   ]
  },
  {
   "cell_type": "code",
   "execution_count": 24,
   "metadata": {},
   "outputs": [
    {
     "name": "stdout",
     "output_type": "stream",
     "text": [
      "6.75\n",
      "6.5\n",
      "[6, 3, 7]\n"
     ]
    }
   ],
   "source": [
    "#questao 9\n",
    "dataset3 = [6,3,7,11,4,3,8,7,2,6,9,15]\n",
    "print(media(dataset3))\n",
    "print(mediana(dataset3))\n",
    "print(moda(dataset3))"
   ]
  },
  {
   "cell_type": "code",
   "execution_count": 25,
   "metadata": {},
   "outputs": [
    {
     "name": "stdout",
     "output_type": "stream",
     "text": [
      "5938.17\n",
      "4625.0\n",
      "o dataset nao possui moda. todos os valores tem a mesma frequencia\n",
      "None\n"
     ]
    }
   ],
   "source": [
    "#questao 10\n",
    "dataset4 = [750,10429,14600,630,8500,720]\n",
    "print(media(dataset4))\n",
    "print(mediana(dataset4))\n",
    "print(moda(dataset4))"
   ]
  },
  {
   "cell_type": "code",
   "execution_count": 26,
   "metadata": {},
   "outputs": [
    {
     "name": "stdout",
     "output_type": "stream",
     "text": [
      "19.77\n",
      "12.0\n"
     ]
    }
   ],
   "source": [
    "#questao 11\n",
    "dataset5 = [7,16,92,29,6,12,11,8,18,19,6,24,9]\n",
    "print(media(dataset5))\n",
    "print(mediana(dataset5))"
   ]
  },
  {
   "cell_type": "code",
   "execution_count": 27,
   "metadata": {},
   "outputs": [
    {
     "name": "stdout",
     "output_type": "stream",
     "text": [
      "13.75\n",
      "11.5\n"
     ]
    }
   ],
   "source": [
    "#outlier ----> '92'\n",
    "#media e mediana sem outlier:\n",
    "\n",
    "novodataset5 = [7,16,29,6,12,11,8,18,19,6,24,9]\n",
    "print(media(novodataset5))\n",
    "print(mediana(novodataset5))\n",
    "\n",
    "#media muda em maior proporcao\n",
    "# em um conjunto que apresenta outliers, o melhor eh usar a mediana como medida de tendencia central"
   ]
  },
  {
   "cell_type": "code",
   "execution_count": 28,
   "metadata": {},
   "outputs": [
    {
     "name": "stdout",
     "output_type": "stream",
     "text": [
      "a media aritmetica combinada eh: 99.0\n"
     ]
    }
   ],
   "source": [
    "#questao 12\n",
    "n1 = 10\n",
    "n2 = 8\n",
    "x1 = 95\n",
    "x2 = 104\n",
    "mac = (n1*x1 + n2*x2)/(n1+n2)\n",
    "print('a media aritmetica combinada eh:', mac)"
   ]
  },
  {
   "cell_type": "code",
   "execution_count": 29,
   "metadata": {},
   "outputs": [
    {
     "name": "stdout",
     "output_type": "stream",
     "text": [
      "a media aritmetica para os alunos de administracao eh: 155.4\n"
     ]
    }
   ],
   "source": [
    "#questao 13\n",
    "n1 = 20\n",
    "n2 = 18\n",
    "x2 = 144\n",
    "mac = 150\n",
    "x1 = (mac * (n1+n2) - (n2*x2))/n1\n",
    "print('a media aritmetica para os alunos de administracao eh:', x1)"
   ]
  },
  {
   "cell_type": "code",
   "execution_count": 30,
   "metadata": {},
   "outputs": [
    {
     "name": "stdout",
     "output_type": "stream",
     "text": [
      "a quantia total em dinheiro, gasta em compras foi de 855.0\n"
     ]
    }
   ],
   "source": [
    "#questao 14\n",
    "media_aritmetica = 85.50\n",
    "n = 10\n",
    "soma = n*media_aritmetica\n",
    "print('a quantia total em dinheiro, gasta em compras foi de', soma)"
   ]
  },
  {
   "cell_type": "code",
   "execution_count": 31,
   "metadata": {},
   "outputs": [
    {
     "name": "stdout",
     "output_type": "stream",
     "text": [
      "a renda total das cinco familias foi 347600\n"
     ]
    }
   ],
   "source": [
    "#questao 15\n",
    "media_aritmetica = 69520\n",
    "n = 5\n",
    "soma = n*media_aritmetica\n",
    "print('a renda total das cinco familias foi', soma)"
   ]
  },
  {
   "cell_type": "code",
   "execution_count": 32,
   "metadata": {},
   "outputs": [
    {
     "name": "stdout",
     "output_type": "stream",
     "text": [
      "a idade da sexta pessoa eh: 48\n"
     ]
    }
   ],
   "source": [
    "#questao 16\n",
    "idades = [57,39,44,51,37]\n",
    "media_aritmetica = 46\n",
    "n = 6\n",
    "idade6 = (n*media_aritmetica) - sum(idades)\n",
    "print('a idade da sexta pessoa eh:', idade6)"
   ]
  },
  {
   "cell_type": "code",
   "execution_count": 33,
   "metadata": {},
   "outputs": [
    {
     "name": "stdout",
     "output_type": "stream",
     "text": [
      "86.0\n",
      "23.0\n"
     ]
    }
   ],
   "source": [
    "#questao 17\n",
    "\n",
    "#amplitude com outlier\n",
    "dataset5 = [7,16,92,29,6,12,11,8,18,19,6,24,9]\n",
    "print(amplitude(dataset5))\n",
    "\n",
    "#amplitude sem outlier\n",
    "novodataset5 = [7,16,29,6,12,11,8,18,19,6,24,9]\n",
    "print(amplitude(novodataset5))"
   ]
  },
  {
   "cell_type": "code",
   "execution_count": 34,
   "metadata": {},
   "outputs": [],
   "source": [
    "#questao 18\n",
    "\n"
   ]
  },
  {
   "cell_type": "code",
   "execution_count": 35,
   "metadata": {},
   "outputs": [
    {
     "data": {
      "text/plain": [
       "0.0"
      ]
     },
     "execution_count": 35,
     "metadata": {},
     "output_type": "execute_result"
    }
   ],
   "source": [
    "#questao 19\n",
    "#o desvio padrao eh igual a zero quando todos os dados do conjunto sao iguais\n",
    "desvio0 = [5,5,5,5,5,5,5,5]\n",
    "dp_amostra(desvio0)"
   ]
  },
  {
   "cell_type": "code",
   "execution_count": 36,
   "metadata": {},
   "outputs": [
    {
     "name": "stdout",
     "output_type": "stream",
     "text": [
      "25.0\n",
      "8.38\n",
      "61.5\n"
     ]
    }
   ],
   "source": [
    "#questao 20\n",
    "dataset6 = [5,-7,2,0,-9,16,10,7]\n",
    "print(amplitude(dataset6))\n",
    "print(dp_amostra(dataset6))\n",
    "print(variancia_amostra(dataset6))"
   ]
  },
  {
   "cell_type": "code",
   "execution_count": 37,
   "metadata": {},
   "outputs": [
    {
     "name": "stdout",
     "output_type": "stream",
     "text": [
      "34.0\n",
      "13.59\n",
      "61.5\n"
     ]
    }
   ],
   "source": [
    "#questao 21\n",
    "dataset7 = [14,18,-10,8,8,-16]\n",
    "print(amplitude(dataset7))\n",
    "print(dp_amostra(dataset7))\n",
    "print(variancia_amostra(dataset7))"
   ]
  },
  {
   "cell_type": "code",
   "execution_count": 38,
   "metadata": {},
   "outputs": [
    {
     "name": "stdout",
     "output_type": "stream",
     "text": [
      "a soma dos desvios eh: 0.03\n"
     ]
    }
   ],
   "source": [
    "#questao 22\n",
    "dataset8 = [89,57,104,73,26,121,81]\n",
    "\n",
    "media8 = media(dataset8)\n",
    "\n",
    "desvios = []\n",
    "\n",
    "for i in dataset8:\n",
    "    desvios.append(i - media8)\n",
    "\n",
    "print('a soma dos desvios eh:', round(sum(desvios), 2))"
   ]
  },
  {
   "cell_type": "code",
   "execution_count": 39,
   "metadata": {},
   "outputs": [
    {
     "name": "stdout",
     "output_type": "stream",
     "text": [
      "95.0\n",
      "31.15\n",
      "61.5\n"
     ]
    }
   ],
   "source": [
    "print(amplitude(dataset8))\n",
    "print(dp_amostra(dataset8))\n",
    "print(variancia_amostra(dataset8))"
   ]
  },
  {
   "cell_type": "code",
   "execution_count": 40,
   "metadata": {},
   "outputs": [
    {
     "name": "stdout",
     "output_type": "stream",
     "text": [
      "33.7\n",
      "12.68\n",
      "61.5\n"
     ]
    }
   ],
   "source": [
    "#questao 23\n",
    "dataset9 = [18.3,36.7,34.4,12.1,24.7,3.0,14.0,4.3]\n",
    "print(amplitude(dataset9))\n",
    "print(dp_amostra(dataset9))\n",
    "print(variancia_amostra(dataset9))"
   ]
  },
  {
   "cell_type": "code",
   "execution_count": 41,
   "metadata": {},
   "outputs": [],
   "source": [
    "#questao 24\n",
    "intervalos = [[2,4],[5,7],[8,10],[11,13],[14,16]]\n",
    "\n",
    "frequencias = np.array([5,9,14,7,5])\n",
    "\n",
    "ponto_medio = []\n",
    "\n",
    "for i in intervalos:\n",
    "    ponto_medio.append(((sum(i)/2)))"
   ]
  },
  {
   "cell_type": "code",
   "execution_count": 42,
   "metadata": {},
   "outputs": [],
   "source": [
    "array_ponto_medio = np.array(ponto_medio)"
   ]
  },
  {
   "cell_type": "code",
   "execution_count": 43,
   "metadata": {},
   "outputs": [
    {
     "name": "stdout",
     "output_type": "stream",
     "text": [
      "8.85\n"
     ]
    }
   ],
   "source": [
    "media = sum(frequencias*array_ponto_medio)/sum(frequencias)\n",
    "print(media)"
   ]
  },
  {
   "cell_type": "code",
   "execution_count": 44,
   "metadata": {},
   "outputs": [],
   "source": [
    "desvios = [] # <-- desvio mede o quão distante está o ponto medio da media. serve para auxiliar no calculo da variancia\n",
    "for v in ponto_medio:\n",
    "    desvios.append((v-media)**2)"
   ]
  },
  {
   "cell_type": "code",
   "execution_count": 45,
   "metadata": {},
   "outputs": [],
   "source": [
    "array_desvios = np.array(desvios)"
   ]
  },
  {
   "cell_type": "code",
   "execution_count": 46,
   "metadata": {},
   "outputs": [
    {
     "name": "stdout",
     "output_type": "stream",
     "text": [
      "12.5775\n"
     ]
    }
   ],
   "source": [
    "variancia = sum(array_desvios * frequencias)/sum(frequencias)\n",
    "print(variancia)"
   ]
  },
  {
   "cell_type": "code",
   "execution_count": 47,
   "metadata": {},
   "outputs": [
    {
     "name": "stdout",
     "output_type": "stream",
     "text": [
      "3.5464771252610667\n"
     ]
    }
   ],
   "source": [
    "dp = variancia**(1/2)\n",
    "print(dp)"
   ]
  },
  {
   "cell_type": "code",
   "execution_count": 48,
   "metadata": {},
   "outputs": [],
   "source": [
    "#questao 25\n",
    "intervalos1 = [[0,4],[4,8],[8,12],[12,16],[16,20],[20,24]]\n",
    "\n",
    "frequencias1 = np.array([17,23,15,11,8,6])\n",
    "\n",
    "ponto_medio1 = []\n",
    "\n",
    "for i in intervalos1:\n",
    "    ponto_medio1.append(((sum(i)/2)))"
   ]
  },
  {
   "cell_type": "code",
   "execution_count": 49,
   "metadata": {},
   "outputs": [],
   "source": [
    "array_ponto_medio1 = np.array(ponto_medio1)"
   ]
  },
  {
   "cell_type": "code",
   "execution_count": 50,
   "metadata": {},
   "outputs": [
    {
     "name": "stdout",
     "output_type": "stream",
     "text": [
      "9.4\n"
     ]
    }
   ],
   "source": [
    "media1 = sum(frequencias1*array_ponto_medio1)/sum(frequencias1)\n",
    "print(media1)"
   ]
  },
  {
   "cell_type": "code",
   "execution_count": 51,
   "metadata": {},
   "outputs": [],
   "source": [
    "desvios1 = [] # <-- desvio mede o quão distante está o ponto medio da media. serve para auxiliar no calculo da variancia\n",
    "for v in ponto_medio1:\n",
    "    desvios1.append((v-media1)**2)"
   ]
  },
  {
   "cell_type": "code",
   "execution_count": 52,
   "metadata": {},
   "outputs": [],
   "source": [
    "array_desvios1 = np.array(desvios1)"
   ]
  },
  {
   "cell_type": "code",
   "execution_count": 53,
   "metadata": {},
   "outputs": [
    {
     "name": "stdout",
     "output_type": "stream",
     "text": [
      "37.24\n"
     ]
    }
   ],
   "source": [
    "variancia1 = sum(array_desvios1 * frequencias1)/sum(frequencias1)\n",
    "print(variancia1)"
   ]
  },
  {
   "cell_type": "code",
   "execution_count": 54,
   "metadata": {},
   "outputs": [
    {
     "name": "stdout",
     "output_type": "stream",
     "text": [
      "6.102458520956943\n"
     ]
    }
   ],
   "source": [
    "dp1 = variancia1**(1/2)\n",
    "print(dp1)"
   ]
  },
  {
   "cell_type": "code",
   "execution_count": 55,
   "metadata": {},
   "outputs": [],
   "source": [
    "#questao 26\n"
   ]
  },
  {
   "cell_type": "code",
   "execution_count": 56,
   "metadata": {},
   "outputs": [],
   "source": [
    "intervalos2 = [[0,20],[20,40],[40,60],[60,80],[80,100]]\n",
    "\n",
    "frequencias2 = np.array([5,16,11,10,8])\n",
    "\n",
    "ponto_medio2 = []\n",
    "\n",
    "for i in intervalos2:\n",
    "    ponto_medio2.append(((sum(i)/2)))"
   ]
  },
  {
   "cell_type": "code",
   "execution_count": 57,
   "metadata": {},
   "outputs": [
    {
     "name": "stdout",
     "output_type": "stream",
     "text": [
      "[10. 30. 50. 70. 90.]\n"
     ]
    }
   ],
   "source": [
    "array_ponto_medio2 = np.array(ponto_medio2)\n",
    "print(array_ponto_medio2)"
   ]
  },
  {
   "cell_type": "code",
   "execution_count": 58,
   "metadata": {},
   "outputs": [
    {
     "name": "stdout",
     "output_type": "stream",
     "text": [
      "50.0\n"
     ]
    }
   ],
   "source": [
    "media2 = sum(frequencias2*array_ponto_medio2)/sum(frequencias2)\n",
    "print(media2)"
   ]
  },
  {
   "cell_type": "code",
   "execution_count": 59,
   "metadata": {},
   "outputs": [],
   "source": [
    "desvios2 = [] # <-- desvio mede o quão distante está o ponto medio da media. serve para auxiliar no calculo da variancia\n",
    "for v in ponto_medio2:\n",
    "    desvios2.append((v-media2)**2)"
   ]
  },
  {
   "cell_type": "code",
   "execution_count": 60,
   "metadata": {},
   "outputs": [],
   "source": [
    "array_desvios2 = np.array(desvios2)"
   ]
  },
  {
   "cell_type": "code",
   "execution_count": 61,
   "metadata": {},
   "outputs": [
    {
     "name": "stdout",
     "output_type": "stream",
     "text": [
      "624.0\n"
     ]
    }
   ],
   "source": [
    "variancia2 = sum(array_desvios2 * frequencias2)/sum(frequencias2)\n",
    "print(variancia2)"
   ]
  },
  {
   "cell_type": "code",
   "execution_count": 62,
   "metadata": {},
   "outputs": [
    {
     "name": "stdout",
     "output_type": "stream",
     "text": [
      "24.979991993593593\n"
     ]
    }
   ],
   "source": [
    "dp2 = variancia2**(1/2)\n",
    "print(dp2)"
   ]
  },
  {
   "cell_type": "code",
   "execution_count": 63,
   "metadata": {},
   "outputs": [],
   "source": [
    "data = np.array([['0-20',frequencias2[0],array_ponto_medio2[0]*frequencias2[0]],\n",
    "                 ['20-40',frequencias2[1] ,array_ponto_medio2[1]*frequencias2[1]],\n",
    "                 ['40-60',frequencias2[2] ,array_ponto_medio2[2]*frequencias2[2]],\n",
    "                 ['60-80',frequencias2[3] ,array_ponto_medio2[3]*frequencias2[3]],\n",
    "                 ['80-100',frequencias2[4] ,array_ponto_medio2[4]*frequencias2[4]]])"
   ]
  },
  {
   "cell_type": "code",
   "execution_count": 64,
   "metadata": {},
   "outputs": [
    {
     "data": {
      "text/html": [
       "<div>\n",
       "<style scoped>\n",
       "    .dataframe tbody tr th:only-of-type {\n",
       "        vertical-align: middle;\n",
       "    }\n",
       "\n",
       "    .dataframe tbody tr th {\n",
       "        vertical-align: top;\n",
       "    }\n",
       "\n",
       "    .dataframe thead th {\n",
       "        text-align: right;\n",
       "    }\n",
       "</style>\n",
       "<table border=\"1\" class=\"dataframe\">\n",
       "  <thead>\n",
       "    <tr style=\"text-align: right;\">\n",
       "      <th></th>\n",
       "      <th>intervalos</th>\n",
       "      <th>frequencias</th>\n",
       "      <th>m*f</th>\n",
       "    </tr>\n",
       "  </thead>\n",
       "  <tbody>\n",
       "    <tr>\n",
       "      <th>0</th>\n",
       "      <td>0-20</td>\n",
       "      <td>5</td>\n",
       "      <td>50.0</td>\n",
       "    </tr>\n",
       "    <tr>\n",
       "      <th>1</th>\n",
       "      <td>20-40</td>\n",
       "      <td>16</td>\n",
       "      <td>480.0</td>\n",
       "    </tr>\n",
       "    <tr>\n",
       "      <th>2</th>\n",
       "      <td>40-60</td>\n",
       "      <td>11</td>\n",
       "      <td>550.0</td>\n",
       "    </tr>\n",
       "    <tr>\n",
       "      <th>3</th>\n",
       "      <td>60-80</td>\n",
       "      <td>10</td>\n",
       "      <td>700.0</td>\n",
       "    </tr>\n",
       "    <tr>\n",
       "      <th>4</th>\n",
       "      <td>80-100</td>\n",
       "      <td>8</td>\n",
       "      <td>720.0</td>\n",
       "    </tr>\n",
       "  </tbody>\n",
       "</table>\n",
       "</div>"
      ],
      "text/plain": [
       "  intervalos frequencias    m*f\n",
       "0       0-20           5   50.0\n",
       "1      20-40          16  480.0\n",
       "2      40-60          11  550.0\n",
       "3      60-80          10  700.0\n",
       "4     80-100           8  720.0"
      ]
     },
     "execution_count": 64,
     "metadata": {},
     "output_type": "execute_result"
    }
   ],
   "source": [
    "df = pd.DataFrame(data, columns = ['intervalos','frequencias','m*f'])\n",
    "df\n",
    "# <---- m*f eh o ponto medio do intervalo multiplicado pela sua respectiva frequencia. eh a media de quanto cada\n",
    "# familia gastou. no primeiro intervalo, a media de gastos foi de 50 reais"
   ]
  },
  {
   "cell_type": "code",
   "execution_count": 65,
   "metadata": {},
   "outputs": [],
   "source": [
    "# <---- ∑ m*f eh o somatorio da multiplicacao dos pontos medios pela suas respectivas frequencias. eh o somatorio\n",
    "# da media dos gastos de todas as familias"
   ]
  },
  {
   "cell_type": "code",
   "execution_count": null,
   "metadata": {},
   "outputs": [],
   "source": []
  },
  {
   "cell_type": "code",
   "execution_count": 66,
   "metadata": {},
   "outputs": [
    {
     "name": "stdout",
     "output_type": "stream",
     "text": [
      "148 312\n",
      "0.75\n",
      "127.5 332.5\n",
      "0.84\n",
      "107 353\n",
      "0.8888888888888888\n"
     ]
    }
   ],
   "source": [
    "#questao 27\n",
    "media = 230\n",
    "dp = 41\n",
    "k = [2,2.5,3]\n",
    "\n",
    "for i in k:\n",
    "    print((media - i*dp),(media + i*dp))  #<----- calculo dos limites dos intervalos para cada valor de k\n",
    "    print((1 - (1/(i*i))))  #<--- teorema de chebyshev, para calcular as porcentagens  "
   ]
  },
  {
   "cell_type": "code",
   "execution_count": 67,
   "metadata": {},
   "outputs": [
    {
     "name": "stdout",
     "output_type": "stream",
     "text": [
      "0.7499999999999999\n",
      "0.84\n",
      "0.8888888888888888\n"
     ]
    }
   ],
   "source": [
    "#questao 28\n",
    "\n",
    "media = 2.3\n",
    "dp = 0.6 \n",
    "\n",
    "d = [media - 1.1, media - 0.8, media - 0.5]\n",
    "k = []\n",
    "\n",
    "for i in d:\n",
    "    k.append(i/dp)\n",
    "\n",
    "for v in k:\n",
    "    print((1 - (1/(v*v))))"
   ]
  },
  {
   "cell_type": "code",
   "execution_count": 68,
   "metadata": {},
   "outputs": [
    {
     "name": "stdout",
     "output_type": "stream",
     "text": [
      "0.75\n",
      "0.84\n"
     ]
    }
   ],
   "source": [
    "#questao 29\n",
    "media = 8367\n",
    "dp = 2400\n",
    "\n",
    "d = [media - 3567, media - 2367] #<--- o quao distante a media esta em relacao aos dois intervalos (desvio)\n",
    "k = []\n",
    "\n",
    "for i in d:\n",
    "    k.append(i/dp) #<-- divindo cada desvio pelo desvio padrao, sabemos quantos desvios padroes estao distantes da media(k)\n",
    "    \n",
    "for v in k:\n",
    "    print((1 - (1/(v*v)))) #<--- teorema de chebyshev, para calcular as porcentagens"
   ]
  },
  {
   "cell_type": "code",
   "execution_count": 69,
   "metadata": {},
   "outputs": [
    {
     "data": {
      "text/plain": [
       "(1130.7277301336726, 15603.272269866327)"
      ]
     },
     "execution_count": 69,
     "metadata": {},
     "output_type": "execute_result"
    }
   ],
   "source": [
    "media = 8367\n",
    "dp = 2400\n",
    "k = (1/(1-0.89))**(1/2)\n",
    "media - (k*dp), media + (k*dp)"
   ]
  },
  {
   "cell_type": "code",
   "execution_count": 70,
   "metadata": {},
   "outputs": [],
   "source": [
    "#questao 30"
   ]
  },
  {
   "cell_type": "code",
   "execution_count": 71,
   "metadata": {},
   "outputs": [],
   "source": [
    "dataset10 = [45,52,48,41,56,46,44,42,48,53,51,53,51,48,46,43,52,50,54,47,44,47,50,49,52]"
   ]
  },
  {
   "cell_type": "code",
   "execution_count": 72,
   "metadata": {},
   "outputs": [
    {
     "name": "stdout",
     "output_type": "stream",
     "text": [
      "[45.5, 48.0, 52.0]\n"
     ]
    }
   ],
   "source": [
    "valores_quartis10 = statistics.quantiles(dataset10, n = 4)\n",
    "print(valores_quartis10)"
   ]
  },
  {
   "cell_type": "code",
   "execution_count": 73,
   "metadata": {},
   "outputs": [
    {
     "name": "stdout",
     "output_type": "stream",
     "text": [
      "a amplitude interquartil eh: 6.5\n"
     ]
    }
   ],
   "source": [
    "aiq10 = max(valores_quartis10) - min(valores_quartis10)\n",
    "print('a amplitude interquartil eh:', aiq10)"
   ]
  },
  {
   "cell_type": "code",
   "execution_count": 74,
   "metadata": {},
   "outputs": [
    {
     "name": "stdout",
     "output_type": "stream",
     "text": [
      "o valor aproximado do 53 percentil eh: 48.78\n"
     ]
    }
   ],
   "source": [
    "valor_53percentil = statistics.quantiles(dataset10, n = 100)\n",
    "print('o valor aproximado do 53 percentil eh:', valor_53percentil[52])"
   ]
  },
  {
   "cell_type": "code",
   "execution_count": null,
   "metadata": {},
   "outputs": [],
   "source": []
  },
  {
   "cell_type": "code",
   "execution_count": 75,
   "metadata": {},
   "outputs": [
    {
     "name": "stdout",
     "output_type": "stream",
     "text": [
      "[45.5, 48.0, 52.0]\n",
      "amplitude interquartil: 6.5\n"
     ]
    },
    {
     "data": {
      "image/png": "[encoded data removed]",
      "text/plain": [
       "<Figure size 432x288 with 1 Axes>"
      ]
     },
     "metadata": {
      "needs_background": "light"
     },
     "output_type": "display_data"
    }
   ],
   "source": [
    "#questao 31\n",
    "\n",
    "l = [45,52,48,41,56,46,44,42,48,53,51,53,51,48,46,43,52,50,54,47,44,47,50,49,52]\n",
    "sl = sorted(l)\n",
    "\n",
    "sns.boxplot(data = sl)\n",
    "\n",
    "valores_quartis = statistics.quantiles(sl, n = 4)\n",
    "print(valores_quartis)\n",
    "print('amplitude interquartil:', max(valores_quartis) - min(valores_quartis))\n",
    "\n",
    "\n",
    "#dados sem outlier\n",
    "#distruibuicao entre quartis equilibrada"
   ]
  },
  {
   "cell_type": "code",
   "execution_count": 76,
   "metadata": {},
   "outputs": [
    {
     "data": {
      "text/plain": [
       "<AxesSubplot:>"
      ]
     },
     "execution_count": 76,
     "metadata": {},
     "output_type": "execute_result"
    },
    {
     "data": {
      "image/png": "[encoded data removed]",
      "text/plain": [
       "<Figure size 432x288 with 1 Axes>"
      ]
     },
     "metadata": {
      "needs_background": "light"
     },
     "output_type": "display_data"
    }
   ],
   "source": [
    "#questao 32\n",
    "z = [11,8,26,31,62,19,7,3,14,75,33,30,42,15,18,23,29,13,16,6]\n",
    "sz = sorted(z)\n",
    "\n",
    "sns.boxplot(data = sz)\n",
    "\n",
    "#valores destacados acima de 40 sao outliers"
   ]
  },
  {
   "cell_type": "code",
   "execution_count": null,
   "metadata": {},
   "outputs": [],
   "source": []
  }
 ],
 "metadata": {
  "kernelspec": {
   "display_name": "Python 3",
   "language": "python",
   "name": "python3"
  },
  "language_info": {
   "codemirror_mode": {
    "name": "ipython",
    "version": 3
   },
   "file_extension": ".py",
   "mimetype": "text/x-python",
   "name": "python",
   "nbconvert_exporter": "python",
   "pygments_lexer": "ipython3",
   "version": "3.8.3"
  }
 },
 "nbformat": 4,
 "nbformat_minor": 4
}
