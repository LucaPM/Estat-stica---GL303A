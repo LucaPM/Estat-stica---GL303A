{
 "cells": [
  {
   "cell_type": "code",
   "execution_count": 4,
   "metadata": {},
   "outputs": [],
   "source": [
    "import pandas as pd\n",
    "import numpy as np\n",
    "import matplotlib.pyplot as plt"
   ]
  },
  {
   "cell_type": "code",
   "execution_count": 7,
   "metadata": {},
   "outputs": [],
   "source": [
    "lista = ['R', 'A', 'R', 'P', 'P', 'T' ,'R' ,'M' ,'P','A', 'A', 'R', 'R' \n",
    "         ,'T', 'P', 'P', 'T','R' ,'A', 'A', 'R' ,'P' ,'A' ,'T', 'R' ,'P', 'R', 'A', 'P', 'R']\n",
    "\n",
    "televisao = []\n",
    "refrigerador = []\n",
    "ar = []\n",
    "publico = []\n",
    "micro = []"
   ]
  },
  {
   "cell_type": "code",
   "execution_count": 8,
   "metadata": {},
   "outputs": [],
   "source": [
    "for i in lista:\n",
    "    if i == 'R':\n",
    "        refrigerador.append(i)\n",
    "    elif i == 'A':\n",
    "        ar.append(i)\n",
    "    elif i == 'P':\n",
    "        publico.append(i)\n",
    "    elif i == 'M':\n",
    "        micro.append(i)\n",
    "    else:\n",
    "        televisao.append(i)"
   ]
  },
  {
   "cell_type": "code",
   "execution_count": 9,
   "metadata": {},
   "outputs": [],
   "source": [
    "def calc_ocorrencias(categoria):\n",
    "    return(int(len(categoria)))"
   ]
  },
  {
   "cell_type": "code",
   "execution_count": 10,
   "metadata": {},
   "outputs": [],
   "source": [
    "categorias = [televisao,refrigerador,ar,publico,micro]\n",
    "porcentagens = []\n",
    "freq_relativa = []\n",
    "for v in categorias:\n",
    "    porcentagens.append(round(calc_ocorrencias(v)/calc_ocorrencias(lista)*100, 2))\n",
    "    freq_relativa.append(round(calc_ocorrencias(v)/calc_ocorrencias(lista), 2))"
   ]
  },
  {
   "cell_type": "code",
   "execution_count": 11,
   "metadata": {},
   "outputs": [],
   "source": [
    "dados = np.array([['televisao',calc_ocorrencias(televisao),porcentagens[0],freq_relativa[0]],\n",
    "                 ['refrigerador',calc_ocorrencias(refrigerador),porcentagens[1],freq_relativa[1]],\n",
    "                 ['ar',calc_ocorrencias(ar),porcentagens[2],freq_relativa[2]],\n",
    "                 ['publico', calc_ocorrencias(publico),porcentagens[3],freq_relativa[3]],\n",
    "                 ['micro', calc_ocorrencias(micro),porcentagens[4],freq_relativa[4]]])"
   ]
  },
  {
   "cell_type": "code",
   "execution_count": 12,
   "metadata": {},
   "outputs": [],
   "source": [
    "df = pd.DataFrame(dados, columns = ['categoria','ocorrencias','porcentagens','freq_relativa'])"
   ]
  },
  {
   "cell_type": "code",
   "execution_count": 13,
   "metadata": {},
   "outputs": [
    {
     "data": {
      "text/html": [
       "<div>\n",
       "<style scoped>\n",
       "    .dataframe tbody tr th:only-of-type {\n",
       "        vertical-align: middle;\n",
       "    }\n",
       "\n",
       "    .dataframe tbody tr th {\n",
       "        vertical-align: top;\n",
       "    }\n",
       "\n",
       "    .dataframe thead th {\n",
       "        text-align: right;\n",
       "    }\n",
       "</style>\n",
       "<table border=\"1\" class=\"dataframe\">\n",
       "  <thead>\n",
       "    <tr style=\"text-align: right;\">\n",
       "      <th></th>\n",
       "      <th>categoria</th>\n",
       "      <th>ocorrencias</th>\n",
       "      <th>porcentagens</th>\n",
       "      <th>freq_relativa</th>\n",
       "    </tr>\n",
       "  </thead>\n",
       "  <tbody>\n",
       "    <tr>\n",
       "      <th>0</th>\n",
       "      <td>televisao</td>\n",
       "      <td>4</td>\n",
       "      <td>13.33</td>\n",
       "      <td>0.13</td>\n",
       "    </tr>\n",
       "    <tr>\n",
       "      <th>1</th>\n",
       "      <td>refrigerador</td>\n",
       "      <td>10</td>\n",
       "      <td>33.33</td>\n",
       "      <td>0.33</td>\n",
       "    </tr>\n",
       "    <tr>\n",
       "      <th>2</th>\n",
       "      <td>ar</td>\n",
       "      <td>7</td>\n",
       "      <td>23.33</td>\n",
       "      <td>0.23</td>\n",
       "    </tr>\n",
       "    <tr>\n",
       "      <th>3</th>\n",
       "      <td>publico</td>\n",
       "      <td>8</td>\n",
       "      <td>26.67</td>\n",
       "      <td>0.27</td>\n",
       "    </tr>\n",
       "    <tr>\n",
       "      <th>4</th>\n",
       "      <td>micro</td>\n",
       "      <td>1</td>\n",
       "      <td>3.33</td>\n",
       "      <td>0.03</td>\n",
       "    </tr>\n",
       "  </tbody>\n",
       "</table>\n",
       "</div>"
      ],
      "text/plain": [
       "      categoria ocorrencias porcentagens freq_relativa\n",
       "0     televisao           4        13.33          0.13\n",
       "1  refrigerador          10        33.33          0.33\n",
       "2            ar           7        23.33          0.23\n",
       "3       publico           8        26.67          0.27\n",
       "4         micro           1         3.33          0.03"
      ]
     },
     "execution_count": 13,
     "metadata": {},
     "output_type": "execute_result"
    }
   ],
   "source": [
    "df"
   ]
  },
  {
   "cell_type": "code",
   "execution_count": 14,
   "metadata": {},
   "outputs": [
    {
     "name": "stdout",
     "output_type": "stream",
     "text": [
      "50.0\n"
     ]
    }
   ],
   "source": [
    "porcentagem_r_a = porcentagens[2] + porcentagens[3]\n",
    "print(porcentagem_r_a)"
   ]
  },
  {
   "cell_type": "code",
   "execution_count": 15,
   "metadata": {},
   "outputs": [],
   "source": [
    "df['ocorrencias'] = pd.to_numeric(df['ocorrencias'])"
   ]
  },
  {
   "cell_type": "code",
   "execution_count": 18,
   "metadata": {},
   "outputs": [
    {
     "data": {
      "text/plain": [
       "(0.0, 15.0)"
      ]
     },
     "execution_count": 18,
     "metadata": {},
     "output_type": "execute_result"
    },
    {
     "data": {
      "image/png": "[encoded data removed]",
      "text/plain": [
       "<Figure size 432x288 with 1 Axes>"
      ]
     },
     "metadata": {
      "needs_background": "light"
     },
     "output_type": "display_data"
    }
   ],
   "source": [
    "plt.bar(df['categoria'],df['ocorrencias'])\n",
    "plt.ylim(0,15)"
   ]
  },
  {
   "cell_type": "code",
   "execution_count": null,
   "metadata": {},
   "outputs": [],
   "source": []
  }
 ],
 "metadata": {
  "kernelspec": {
   "display_name": "Python 3",
   "language": "python",
   "name": "python3"
  },
  "language_info": {
   "codemirror_mode": {
    "name": "ipython",
    "version": 3
   },
   "file_extension": ".py",
   "mimetype": "text/x-python",
   "name": "python",
   "nbconvert_exporter": "python",
   "pygments_lexer": "ipython3",
   "version": "3.8.3"
  }
 },
 "nbformat": 4,
 "nbformat_minor": 4
}
