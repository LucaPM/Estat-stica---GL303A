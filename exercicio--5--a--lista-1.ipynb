{
 "cells": [
  {
   "cell_type": "code",
   "execution_count": 1,
   "metadata": {},
   "outputs": [],
   "source": [
    "import pandas as pd\n",
    "import numpy as np\n",
    "import matplotlib.pyplot as plt"
   ]
  },
  {
   "cell_type": "code",
   "execution_count": 2,
   "metadata": {},
   "outputs": [],
   "source": [
    "lista = ['T','C','S', 'Q', 'T', 'T', 'Q', 'T', 'T', 'T',\n",
    "'C', 'C', 'T', 'C', 'C', 'C', 'Q', 'S', 'Q', 'T',\n",
    "'T', 'C', 'Q', 'S', 'S', 'C', 'T', 'C', 'Q', 'Q',\n",
    "'S', 'Q', 'T', 'S', 'S', 'T', 'T', 'S', 'C', 'S',\n",
    "'Q', 'Q', 'C', 'Q', 'T', 'S', 'C', 'T', 'S','S']\n",
    "\n",
    "calouros = []\n",
    "ano2 = []\n",
    "ano3 = []\n",
    "ano4 = []"
   ]
  },
  {
   "cell_type": "code",
   "execution_count": 3,
   "metadata": {},
   "outputs": [],
   "source": [
    "for i in lista:\n",
    "    if i == 'C':\n",
    "        calouros.append(i)\n",
    "    elif i == 'S':\n",
    "        ano2.append(i)\n",
    "    elif i == 'T':\n",
    "        ano3.append(i)\n",
    "    else:\n",
    "        ano4.append(i)"
   ]
  },
  {
   "cell_type": "code",
   "execution_count": 4,
   "metadata": {},
   "outputs": [],
   "source": [
    "def calc_ocorrencias(categoria):\n",
    "    return(int(len(categoria)))"
   ]
  },
  {
   "cell_type": "code",
   "execution_count": 5,
   "metadata": {},
   "outputs": [],
   "source": [
    "categorias = [calouros,ano2,ano3,ano4]\n",
    "porcentagens = []\n",
    "freq_relativa = []\n",
    "for v in categorias:\n",
    "    porcentagens.append(round(calc_ocorrencias(v)/calc_ocorrencias(lista)*100, 2))\n",
    "    freq_relativa.append(round(calc_ocorrencias(v)/calc_ocorrencias(lista), 2))"
   ]
  },
  {
   "cell_type": "code",
   "execution_count": 6,
   "metadata": {},
   "outputs": [],
   "source": [
    "dados = np.array([['calouros',calc_ocorrencias(calouros),porcentagens[0],freq_relativa[0]],\n",
    "                 ['segundo ano',calc_ocorrencias(ano2),porcentagens[1],freq_relativa[1]],\n",
    "                 ['terceiro ano',calc_ocorrencias(ano3),porcentagens[2],freq_relativa[2]],\n",
    "                 ['quarto ano', calc_ocorrencias(ano4),porcentagens[3],freq_relativa[3]]])"
   ]
  },
  {
   "cell_type": "code",
   "execution_count": 7,
   "metadata": {},
   "outputs": [],
   "source": [
    "df = pd.DataFrame(dados, columns = ['categoria','ocorrencias','porcentagens','freq_relativa'])"
   ]
  },
  {
   "cell_type": "code",
   "execution_count": 8,
   "metadata": {},
   "outputs": [
    {
     "data": {
      "text/html": [
       "<div>\n",
       "<style scoped>\n",
       "    .dataframe tbody tr th:only-of-type {\n",
       "        vertical-align: middle;\n",
       "    }\n",
       "\n",
       "    .dataframe tbody tr th {\n",
       "        vertical-align: top;\n",
       "    }\n",
       "\n",
       "    .dataframe thead th {\n",
       "        text-align: right;\n",
       "    }\n",
       "</style>\n",
       "<table border=\"1\" class=\"dataframe\">\n",
       "  <thead>\n",
       "    <tr style=\"text-align: right;\">\n",
       "      <th></th>\n",
       "      <th>categoria</th>\n",
       "      <th>ocorrencias</th>\n",
       "      <th>porcentagens</th>\n",
       "      <th>freq_relativa</th>\n",
       "    </tr>\n",
       "  </thead>\n",
       "  <tbody>\n",
       "    <tr>\n",
       "      <th>0</th>\n",
       "      <td>calouros</td>\n",
       "      <td>12</td>\n",
       "      <td>24.0</td>\n",
       "      <td>0.24</td>\n",
       "    </tr>\n",
       "    <tr>\n",
       "      <th>1</th>\n",
       "      <td>segundo ano</td>\n",
       "      <td>12</td>\n",
       "      <td>24.0</td>\n",
       "      <td>0.24</td>\n",
       "    </tr>\n",
       "    <tr>\n",
       "      <th>2</th>\n",
       "      <td>terceiro ano</td>\n",
       "      <td>15</td>\n",
       "      <td>30.0</td>\n",
       "      <td>0.3</td>\n",
       "    </tr>\n",
       "    <tr>\n",
       "      <th>3</th>\n",
       "      <td>quarto ano</td>\n",
       "      <td>11</td>\n",
       "      <td>22.0</td>\n",
       "      <td>0.22</td>\n",
       "    </tr>\n",
       "  </tbody>\n",
       "</table>\n",
       "</div>"
      ],
      "text/plain": [
       "      categoria ocorrencias porcentagens freq_relativa\n",
       "0      calouros          12         24.0          0.24\n",
       "1   segundo ano          12         24.0          0.24\n",
       "2  terceiro ano          15         30.0           0.3\n",
       "3    quarto ano          11         22.0          0.22"
      ]
     },
     "execution_count": 8,
     "metadata": {},
     "output_type": "execute_result"
    }
   ],
   "source": [
    "df"
   ]
  },
  {
   "cell_type": "code",
   "execution_count": 13,
   "metadata": {},
   "outputs": [
    {
     "name": "stdout",
     "output_type": "stream",
     "text": [
      "52.0\n"
     ]
    }
   ],
   "source": [
    "porcentagem3e4 = porcentagens[2] + porcentagens[3]\n",
    "print(porcentagem3e4)"
   ]
  },
  {
   "cell_type": "code",
   "execution_count": 10,
   "metadata": {},
   "outputs": [
    {
     "data": {
      "text/plain": [
       "categoria        object\n",
       "ocorrencias      object\n",
       "porcentagens     object\n",
       "freq_relativa    object\n",
       "dtype: object"
      ]
     },
     "execution_count": 10,
     "metadata": {},
     "output_type": "execute_result"
    }
   ],
   "source": [
    "df.dtypes"
   ]
  },
  {
   "cell_type": "code",
   "execution_count": 11,
   "metadata": {},
   "outputs": [],
   "source": [
    "df['ocorrencias'] = pd.to_numeric(df['ocorrencias'])"
   ]
  },
  {
   "cell_type": "code",
   "execution_count": 12,
   "metadata": {},
   "outputs": [
    {
     "data": {
      "text/plain": [
       "(0.0, 20.0)"
      ]
     },
     "execution_count": 12,
     "metadata": {},
     "output_type": "execute_result"
    },
    {
     "data": {
      "image/png": "[encoded data removed]",
      "text/plain": [
       "<Figure size 432x288 with 1 Axes>"
      ]
     },
     "metadata": {
      "needs_background": "light"
     },
     "output_type": "display_data"
    }
   ],
   "source": [
    "plt.bar(df['categoria'],df['ocorrencias'])\n",
    "plt.ylim(0,20)"
   ]
  },
  {
   "cell_type": "code",
   "execution_count": null,
   "metadata": {},
   "outputs": [],
   "source": []
  },
  {
   "cell_type": "code",
   "execution_count": null,
   "metadata": {},
   "outputs": [],
   "source": []
  },
  {
   "cell_type": "code",
   "execution_count": null,
   "metadata": {},
   "outputs": [],
   "source": []
  }
 ],
 "metadata": {
  "kernelspec": {
   "display_name": "Python 3",
   "language": "python",
   "name": "python3"
  },
  "language_info": {
   "codemirror_mode": {
    "name": "ipython",
    "version": 3
   },
   "file_extension": ".py",
   "mimetype": "text/x-python",
   "name": "python",
   "nbconvert_exporter": "python",
   "pygments_lexer": "ipython3",
   "version": "3.8.3"
  }
 },
 "nbformat": 4,
 "nbformat_minor": 4
}
