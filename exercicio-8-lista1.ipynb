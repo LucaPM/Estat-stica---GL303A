{
 "cells": [
  {
   "cell_type": "code",
   "execution_count": 31,
   "metadata": {},
   "outputs": [],
   "source": [
    "import numpy as np\n",
    "import pandas as pd"
   ]
  },
  {
   "cell_type": "code",
   "execution_count": 51,
   "metadata": {},
   "outputs": [],
   "source": [
    "lista = [52876, 32896, 34457, 51046, 38186, 35202 ,45310, 45654, 37864 ,39305, 46738, 40438, 46499, 38537, 33448, 37117, 33096, 39120, 42177]\n",
    "classe1 = []\n",
    "classe2 = []\n",
    "classe3 = []\n",
    "classe4 = []\n",
    "classe5 = []"
   ]
  },
  {
   "cell_type": "code",
   "execution_count": 57,
   "metadata": {},
   "outputs": [],
   "source": [
    "for i in lista:\n",
    "    if 30000<=i<35000:\n",
    "        classe1.append(i)\n",
    "    elif 35000<=i<40000:\n",
    "        classe2.append(i)\n",
    "    elif 45000<=i<50000:\n",
    "        classe3.append(i)\n",
    "    elif 60000<=i<65000:\n",
    "        classe4.append(i)\n",
    "    else:\n",
    "        classe5.append(i)"
   ]
  },
  {
   "cell_type": "code",
   "execution_count": 58,
   "metadata": {},
   "outputs": [],
   "source": [
    "def calc_ocorrencias(classe):\n",
    "    return (int(len(classe)))"
   ]
  },
  {
   "cell_type": "code",
   "execution_count": 59,
   "metadata": {},
   "outputs": [],
   "source": [
    "classes = [classe1,classe2,classe3,classe4,classe5]\n",
    "freq_relativa = []\n",
    "porcentagem = []\n",
    "for i in classes:\n",
    "    freq_relativa.append(round(calc_ocorrencias(i)/calc_ocorrencias(lista),2))\n",
    "    porcentagem.append(round(calc_ocorrencias(i)/calc_ocorrencias(lista)*100, 2))"
   ]
  },
  {
   "cell_type": "code",
   "execution_count": 66,
   "metadata": {},
   "outputs": [],
   "source": [
    "dados = np.array([['classe 1',calc_ocorrencias(classe1), porcentagem[0], freq_relativa[0]],\n",
    "                  ['classe 2',calc_ocorrencias(classe2), porcentagem[1], freq_relativa[1]],\n",
    "                  ['classe 3',calc_ocorrencias(classe3), porcentagem[2], freq_relativa[2]],\n",
    "                  ['classe 4',calc_ocorrencias(classe4), porcentagem[3], freq_relativa[3]],\n",
    "                  ['classe 5',calc_ocorrencias(classe5), porcentagem[4], freq_relativa[4]]])"
   ]
  },
  {
   "cell_type": "code",
   "execution_count": 67,
   "metadata": {},
   "outputs": [],
   "source": [
    "df = pd.DataFrame(dados, columns = ['classes', 'ocorrencias', 'porcentagem', 'freq_relativa'])"
   ]
  },
  {
   "cell_type": "code",
   "execution_count": 68,
   "metadata": {},
   "outputs": [
    {
     "data": {
      "text/html": [
       "<div>\n",
       "<style scoped>\n",
       "    .dataframe tbody tr th:only-of-type {\n",
       "        vertical-align: middle;\n",
       "    }\n",
       "\n",
       "    .dataframe tbody tr th {\n",
       "        vertical-align: top;\n",
       "    }\n",
       "\n",
       "    .dataframe thead th {\n",
       "        text-align: right;\n",
       "    }\n",
       "</style>\n",
       "<table border=\"1\" class=\"dataframe\">\n",
       "  <thead>\n",
       "    <tr style=\"text-align: right;\">\n",
       "      <th></th>\n",
       "      <th>classes</th>\n",
       "      <th>ocorrencias</th>\n",
       "      <th>porcentagem</th>\n",
       "      <th>freq_relativa</th>\n",
       "    </tr>\n",
       "  </thead>\n",
       "  <tbody>\n",
       "    <tr>\n",
       "      <th>0</th>\n",
       "      <td>classe 1</td>\n",
       "      <td>4</td>\n",
       "      <td>21.05</td>\n",
       "      <td>0.21</td>\n",
       "    </tr>\n",
       "    <tr>\n",
       "      <th>1</th>\n",
       "      <td>classe 2</td>\n",
       "      <td>7</td>\n",
       "      <td>36.84</td>\n",
       "      <td>0.37</td>\n",
       "    </tr>\n",
       "    <tr>\n",
       "      <th>2</th>\n",
       "      <td>classe 3</td>\n",
       "      <td>4</td>\n",
       "      <td>21.05</td>\n",
       "      <td>0.21</td>\n",
       "    </tr>\n",
       "    <tr>\n",
       "      <th>3</th>\n",
       "      <td>classe 4</td>\n",
       "      <td>0</td>\n",
       "      <td>0.0</td>\n",
       "      <td>0.0</td>\n",
       "    </tr>\n",
       "    <tr>\n",
       "      <th>4</th>\n",
       "      <td>classe 5</td>\n",
       "      <td>4</td>\n",
       "      <td>21.05</td>\n",
       "      <td>0.21</td>\n",
       "    </tr>\n",
       "  </tbody>\n",
       "</table>\n",
       "</div>"
      ],
      "text/plain": [
       "    classes ocorrencias porcentagem freq_relativa\n",
       "0  classe 1           4       21.05          0.21\n",
       "1  classe 2           7       36.84          0.37\n",
       "2  classe 3           4       21.05          0.21\n",
       "3  classe 4           0         0.0           0.0\n",
       "4  classe 5           4       21.05          0.21"
      ]
     },
     "execution_count": 68,
     "metadata": {},
     "output_type": "execute_result"
    }
   ],
   "source": [
    "df"
   ]
  },
  {
   "cell_type": "code",
   "execution_count": null,
   "metadata": {},
   "outputs": [],
   "source": []
  },
  {
   "cell_type": "code",
   "execution_count": null,
   "metadata": {},
   "outputs": [],
   "source": []
  }
 ],
 "metadata": {
  "kernelspec": {
   "display_name": "Python 3",
   "language": "python",
   "name": "python3"
  },
  "language_info": {
   "codemirror_mode": {
    "name": "ipython",
    "version": 3
   },
   "file_extension": ".py",
   "mimetype": "text/x-python",
   "name": "python",
   "nbconvert_exporter": "python",
   "pygments_lexer": "ipython3",
   "version": "3.8.3"
  }
 },
 "nbformat": 4,
 "nbformat_minor": 4
}
