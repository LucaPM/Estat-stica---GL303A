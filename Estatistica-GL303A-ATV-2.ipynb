{
 "cells": [
  {
   "cell_type": "code",
   "execution_count": 1,
   "metadata": {},
   "outputs": [],
   "source": [
    "import statistics"
   ]
  },
  {
   "cell_type": "markdown",
   "metadata": {},
   "source": [
    "# medidas descritivas para os valores  [14, 18, -10, 8, 8, -16]"
   ]
  },
  {
   "cell_type": "code",
   "execution_count": 2,
   "metadata": {},
   "outputs": [],
   "source": [
    "dataset = [14,18,-10,8,8,-16]"
   ]
  },
  {
   "cell_type": "code",
   "execution_count": 3,
   "metadata": {},
   "outputs": [
    {
     "name": "stdout",
     "output_type": "stream",
     "text": [
      "a media aritmetica eh: 3.67\n"
     ]
    }
   ],
   "source": [
    "media = round(statistics.mean(dataset), 2)\n",
    "print('a media aritmetica eh:', media)"
   ]
  },
  {
   "cell_type": "code",
   "execution_count": 4,
   "metadata": {},
   "outputs": [
    {
     "name": "stdout",
     "output_type": "stream",
     "text": [
      "a mediana eh: 8.0\n"
     ]
    }
   ],
   "source": [
    "mediana = statistics.median(dataset)\n",
    "print('a mediana eh:', mediana)"
   ]
  },
  {
   "cell_type": "code",
   "execution_count": 5,
   "metadata": {},
   "outputs": [
    {
     "name": "stdout",
     "output_type": "stream",
     "text": [
      "a moda eh: [8]\n"
     ]
    }
   ],
   "source": [
    "moda = statistics.multimode(dataset)\n",
    "print('a moda eh:', moda)"
   ]
  },
  {
   "cell_type": "code",
   "execution_count": 6,
   "metadata": {},
   "outputs": [
    {
     "name": "stdout",
     "output_type": "stream",
     "text": [
      "o desvio padrao eh: 13.59\n"
     ]
    }
   ],
   "source": [
    "dp = round(statistics.stdev(dataset), 2)\n",
    "print('o desvio padrao eh:', dp)"
   ]
  },
  {
   "cell_type": "code",
   "execution_count": 7,
   "metadata": {},
   "outputs": [
    {
     "name": "stdout",
     "output_type": "stream",
     "text": [
      "a variancia eh: 184.67\n"
     ]
    }
   ],
   "source": [
    "variancia = round(statistics.variance(dataset), 2)\n",
    "print('a variancia eh:', variancia)"
   ]
  },
  {
   "cell_type": "code",
   "execution_count": 8,
   "metadata": {},
   "outputs": [
    {
     "name": "stdout",
     "output_type": "stream",
     "text": [
      "a amplitude eh: 34\n"
     ]
    }
   ],
   "source": [
    "amplitude = max(dataset) - min(dataset)\n",
    "print('a amplitude eh:', amplitude)"
   ]
  },
  {
   "cell_type": "markdown",
   "metadata": {},
   "source": [
    "# medidas descritivas para os valores  \n",
    "# [18.3, 36.7, 34.4, 12.1, 24.7, 3.0, 14.0, 4.3]"
   ]
  },
  {
   "cell_type": "code",
   "execution_count": 9,
   "metadata": {},
   "outputs": [],
   "source": [
    "dataset2 = [18.3,36.7,34.4,12.1,24.7,3.0,14.0,4.3]"
   ]
  },
  {
   "cell_type": "code",
   "execution_count": 10,
   "metadata": {},
   "outputs": [
    {
     "name": "stdout",
     "output_type": "stream",
     "text": [
      "o desvio padrao eh: 12.68\n"
     ]
    }
   ],
   "source": [
    "dp2 = round(statistics.stdev(dataset2), 2)\n",
    "print('o desvio padrao eh:',dp2)"
   ]
  },
  {
   "cell_type": "code",
   "execution_count": 11,
   "metadata": {},
   "outputs": [
    {
     "name": "stdout",
     "output_type": "stream",
     "text": [
      "a variancia eh: 160.8\n"
     ]
    }
   ],
   "source": [
    "variancia2 = round(statistics.variance(dataset2), 2)\n",
    "print('a variancia eh:', variancia2)"
   ]
  },
  {
   "cell_type": "code",
   "execution_count": 12,
   "metadata": {},
   "outputs": [
    {
     "name": "stdout",
     "output_type": "stream",
     "text": [
      "a amplitude eh: 33.7\n"
     ]
    }
   ],
   "source": [
    "amplitude2 = max(dataset2) - min(dataset2)\n",
    "print('a amplitude eh:', amplitude2)"
   ]
  },
  {
   "cell_type": "markdown",
   "metadata": {},
   "source": [
    "\n",
    "\n",
    "# medidas descritivas para os valores\n",
    "# [45,52,48,41,56,46,44,42,48,53,51,53,51,48,46,43,52,50,54,47,44,47,50,49,52]"
   ]
  },
  {
   "cell_type": "code",
   "execution_count": 13,
   "metadata": {},
   "outputs": [],
   "source": [
    "dataset3 = [45,52,48,41,56,46,44,42,48,53,51,53,51,48,46,43,52,50,54,47,44,47,50,49,52]"
   ]
  },
  {
   "cell_type": "code",
   "execution_count": 14,
   "metadata": {},
   "outputs": [
    {
     "name": "stdout",
     "output_type": "stream",
     "text": [
      "[45.5, 48.0, 52.0]\n"
     ]
    }
   ],
   "source": [
    "valores_quartis3 = statistics.quantiles(dataset3, n = 4)\n",
    "print(valores_quartis3)"
   ]
  },
  {
   "cell_type": "code",
   "execution_count": 15,
   "metadata": {},
   "outputs": [
    {
     "name": "stdout",
     "output_type": "stream",
     "text": [
      "a amplitude interquartil eh: 6.5\n"
     ]
    }
   ],
   "source": [
    "aiq3 = max(valores_quartis3) - min(valores_quartis3)\n",
    "print('a amplitude interquartil eh:', aiq3)"
   ]
  },
  {
   "cell_type": "code",
   "execution_count": 16,
   "metadata": {},
   "outputs": [
    {
     "name": "stdout",
     "output_type": "stream",
     "text": [
      "o valor aproximado do 53 percentil eh: 48.78\n"
     ]
    }
   ],
   "source": [
    "valor_53percentil = statistics.quantiles(dataset3, n = 100)\n",
    "print('o valor aproximado do 53 percentil eh:', valor_53percentil[52])"
   ]
  },
  {
   "cell_type": "markdown",
   "metadata": {},
   "source": [
    "# medidas descritivas para os valores [5,-7,2,0,-9,16,10,7]"
   ]
  },
  {
   "cell_type": "code",
   "execution_count": 17,
   "metadata": {},
   "outputs": [],
   "source": [
    "dataset4 = [5,-7,2,0,-9,16,10,7]"
   ]
  },
  {
   "cell_type": "code",
   "execution_count": 18,
   "metadata": {},
   "outputs": [
    {
     "name": "stdout",
     "output_type": "stream",
     "text": [
      "a media eh: 3\n"
     ]
    }
   ],
   "source": [
    "media4 = statistics.mean(dataset4)\n",
    "print('a media eh:', media4)"
   ]
  },
  {
   "cell_type": "code",
   "execution_count": 19,
   "metadata": {},
   "outputs": [
    {
     "name": "stdout",
     "output_type": "stream",
     "text": [
      "a mediana eh: 3.5\n"
     ]
    }
   ],
   "source": [
    "mediana4 = statistics.median(dataset4)\n",
    "print('a mediana eh:', mediana4)"
   ]
  },
  {
   "cell_type": "code",
   "execution_count": 20,
   "metadata": {},
   "outputs": [
    {
     "name": "stdout",
     "output_type": "stream",
     "text": [
      "o desvio padrao eh: 7.84\n"
     ]
    }
   ],
   "source": [
    "dp4 = round(statistics.pstdev(dataset4), 2)\n",
    "print('o desvio padrao eh:', dp4)"
   ]
  },
  {
   "cell_type": "code",
   "execution_count": 21,
   "metadata": {},
   "outputs": [
    {
     "name": "stdout",
     "output_type": "stream",
     "text": [
      "a variancia eh: 61.5\n"
     ]
    }
   ],
   "source": [
    "variancia4 = statistics.pvariance(dataset4)\n",
    "print('a variancia eh:', variancia4)"
   ]
  },
  {
   "cell_type": "code",
   "execution_count": 22,
   "metadata": {},
   "outputs": [
    {
     "name": "stdout",
     "output_type": "stream",
     "text": [
      "a amplitude eh: 25\n"
     ]
    }
   ],
   "source": [
    "amplitude4 = max(dataset4) - min(dataset4)\n",
    "print('a amplitude eh:', amplitude4)"
   ]
  },
  {
   "cell_type": "markdown",
   "metadata": {},
   "source": [
    "# medidas descritivas para os valores [6,3,7,11,4,3,8,7,2,6,9,15]"
   ]
  },
  {
   "cell_type": "code",
   "execution_count": 23,
   "metadata": {},
   "outputs": [],
   "source": [
    "dataset5 = [6,3,7,11,4,3,8,7,2,6,9,15]"
   ]
  },
  {
   "cell_type": "code",
   "execution_count": 24,
   "metadata": {},
   "outputs": [
    {
     "name": "stdout",
     "output_type": "stream",
     "text": [
      "a media eh: 6.75\n"
     ]
    }
   ],
   "source": [
    "media5 = statistics.mean(dataset5)\n",
    "print('a media eh:', media5)"
   ]
  },
  {
   "cell_type": "code",
   "execution_count": 25,
   "metadata": {},
   "outputs": [
    {
     "name": "stdout",
     "output_type": "stream",
     "text": [
      "a mediana eh: 6.5\n"
     ]
    }
   ],
   "source": [
    "mediana5 = statistics.median(dataset5)\n",
    "print('a mediana eh:', mediana5)"
   ]
  },
  {
   "cell_type": "code",
   "execution_count": 26,
   "metadata": {},
   "outputs": [
    {
     "name": "stdout",
     "output_type": "stream",
     "text": [
      "a moda eh: [6, 3, 7]\n"
     ]
    }
   ],
   "source": [
    "moda5 = statistics.multimode(dataset5)\n",
    "print('a moda eh:', moda5)"
   ]
  },
  {
   "cell_type": "markdown",
   "metadata": {},
   "source": [
    "# medidas descritivas para os valores [7,16,92,29,6,12,11,8,18,19,6,24,9]"
   ]
  },
  {
   "cell_type": "code",
   "execution_count": 27,
   "metadata": {},
   "outputs": [],
   "source": [
    "dataset6 = [7,16,92,29,6,12,11,8,18,19,6,24,9]"
   ]
  },
  {
   "cell_type": "code",
   "execution_count": 28,
   "metadata": {},
   "outputs": [
    {
     "name": "stdout",
     "output_type": "stream",
     "text": [
      "a media eh: 19.77\n",
      "a mediana eh: 12\n"
     ]
    }
   ],
   "source": [
    "media6 = round(statistics.mean(dataset6), 2)\n",
    "print('a media eh:', media6)\n",
    "\n",
    "mediana6 = statistics.median(dataset6)\n",
    "print('a mediana eh:', mediana6)"
   ]
  },
  {
   "cell_type": "markdown",
   "metadata": {},
   "source": [
    "# medidas descritivas para os valores [750,10429,14600,630,8500,720]"
   ]
  },
  {
   "cell_type": "code",
   "execution_count": 29,
   "metadata": {},
   "outputs": [],
   "source": [
    "dataset7 = [750,10429,14600,630,8500,720]"
   ]
  },
  {
   "cell_type": "code",
   "execution_count": 30,
   "metadata": {},
   "outputs": [
    {
     "name": "stdout",
     "output_type": "stream",
     "text": [
      "a media eh: 5938.17\n",
      "a mediana eh: 4625.0\n"
     ]
    }
   ],
   "source": [
    "media7 = round(statistics.mean(dataset7), 2)\n",
    "print('a media eh:', media7)\n",
    "\n",
    "mediana7 = statistics.median(dataset7)\n",
    "print('a mediana eh:', mediana7)"
   ]
  },
  {
   "cell_type": "markdown",
   "metadata": {},
   "source": [
    "# medidas descritivas para os valores [89,57,104,73,26,121,81]"
   ]
  },
  {
   "cell_type": "code",
   "execution_count": 31,
   "metadata": {},
   "outputs": [],
   "source": [
    "dataset8 = [89,57,104,73,26,121,81]"
   ]
  },
  {
   "cell_type": "code",
   "execution_count": 32,
   "metadata": {},
   "outputs": [
    {
     "name": "stdout",
     "output_type": "stream",
     "text": [
      "o desvio padrao eh: 31.15\n"
     ]
    }
   ],
   "source": [
    "dp8 = round(statistics.stdev(dataset8), 2)\n",
    "print('o desvio padrao eh:', dp8)"
   ]
  },
  {
   "cell_type": "code",
   "execution_count": 33,
   "metadata": {},
   "outputs": [
    {
     "name": "stdout",
     "output_type": "stream",
     "text": [
      "a variancia eh: 970.2380952380952\n"
     ]
    }
   ],
   "source": [
    "variancia8 = statistics.variance(dataset8)\n",
    "print('a variancia eh:', variancia8)"
   ]
  },
  {
   "cell_type": "code",
   "execution_count": 34,
   "metadata": {},
   "outputs": [
    {
     "name": "stdout",
     "output_type": "stream",
     "text": [
      "a amplitude eh: 95\n"
     ]
    }
   ],
   "source": [
    "amplitude8 = max(dataset8) - min(dataset8)\n",
    "print('a amplitude eh:', amplitude8)"
   ]
  },
  {
   "cell_type": "code",
   "execution_count": 35,
   "metadata": {},
   "outputs": [
    {
     "name": "stdout",
     "output_type": "stream",
     "text": [
      "a media eh: 78.7\n"
     ]
    }
   ],
   "source": [
    "media8 = round(statistics.mean(dataset8), 1)\n",
    "print('a media eh:', media8)"
   ]
  },
  {
   "cell_type": "code",
   "execution_count": 36,
   "metadata": {},
   "outputs": [
    {
     "name": "stdout",
     "output_type": "stream",
     "text": [
      "a soma dos desvios eh: 0.1\n"
     ]
    }
   ],
   "source": [
    "desvios = []\n",
    "for i in dataset8:\n",
    "    desvios.append(i - media8)\n",
    "\n",
    "print('a soma dos desvios eh:', round(sum(desvios), 2))"
   ]
  },
  {
   "cell_type": "markdown",
   "metadata": {},
   "source": [
    "# medidas descritivas para os valores\n",
    "# [11,8,26,31,62,19,7,3,14,75,33,30,42,15,18,23,29,13,16,6]"
   ]
  },
  {
   "cell_type": "code",
   "execution_count": 37,
   "metadata": {},
   "outputs": [],
   "source": [
    "dataset9 = [11,8,26,31,62,19,7,3,14,75,33,30,42,15,18,23,29,13,16,6]"
   ]
  },
  {
   "cell_type": "code",
   "execution_count": 38,
   "metadata": {},
   "outputs": [
    {
     "name": "stdout",
     "output_type": "stream",
     "text": [
      "[11.5, 18.5, 30.75]\n"
     ]
    }
   ],
   "source": [
    "valores_quartis = statistics.quantiles(dataset9, n = 4)\n",
    "print(valores_quartis)"
   ]
  },
  {
   "cell_type": "code",
   "execution_count": 39,
   "metadata": {},
   "outputs": [
    {
     "name": "stdout",
     "output_type": "stream",
     "text": [
      "a amplitude interquartil eh: 19.25\n"
     ]
    }
   ],
   "source": [
    "aiq = max(valores_quartis) - min(valores_quartis)\n",
    "print('a amplitude interquartil eh:', aiq)"
   ]
  },
  {
   "cell_type": "markdown",
   "metadata": {},
   "source": [
    "# Outras questões"
   ]
  },
  {
   "cell_type": "code",
   "execution_count": 40,
   "metadata": {},
   "outputs": [
    {
     "name": "stdout",
     "output_type": "stream",
     "text": [
      "a quantia total em dinheiro, gasta em compras foi de 855.0\n"
     ]
    }
   ],
   "source": [
    "#suponha que a media aritmetica da quantia em dinheiro, gasta em compras por 10 pessoas durante uma determinada semana, seja\n",
    "#R$ 85.10 . Encontre a quantia total em dinheiro, gasta em compras, pelas 10 pessoas.\n",
    "media_aritmetica = 85.50\n",
    "n = 10\n",
    "soma = n*media_aritmetica\n",
    "print('a quantia total em dinheiro, gasta em compras foi de', soma)"
   ]
  },
  {
   "cell_type": "code",
   "execution_count": 41,
   "metadata": {},
   "outputs": [
    {
     "name": "stdout",
     "output_type": "stream",
     "text": [
      "a renda total das cinco familias foi 347600\n"
     ]
    }
   ],
   "source": [
    "#suponha que a média aritmética da renda me 2002, para cinco familias foi igual a R$69.520. Qual foi a renda total em 2002\n",
    "#dessas cinco familias?\n",
    "media_aritmetica = 69520\n",
    "n = 5\n",
    "soma = n*media_aritmetica\n",
    "print('a renda total das cinco familias foi', soma)"
   ]
  },
  {
   "cell_type": "code",
   "execution_count": 42,
   "metadata": {},
   "outputs": [
    {
     "name": "stdout",
     "output_type": "stream",
     "text": [
      "a idade da sexta pessoa eh: 48\n"
     ]
    }
   ],
   "source": [
    "#suponha que a media aritmetica da idade de seis pessoas seja igual a 46. A idade correspondente a cinco dessas seis pessoas\n",
    "#eh 57,39,44,51,37. Encontre a idade da sexta pessoa.\n",
    "dataset = [57,39,44,51,37]\n",
    "media_aritmetica = 46\n",
    "n = 6\n",
    "idade6 = (n*media_aritmetica) - sum(dataset)\n",
    "print('a idade da sexta pessoa eh:', idade6)"
   ]
  },
  {
   "cell_type": "code",
   "execution_count": 43,
   "metadata": {},
   "outputs": [
    {
     "name": "stdout",
     "output_type": "stream",
     "text": [
      "a media aritmetica combinada eh: 99.0\n"
     ]
    }
   ],
   "source": [
    "#suponha que uma amostra contendo 10 livros de estatistica fornecesse uma media de preco igual a R$95.00 e uma amostra \n",
    "#contendo 8 livros de matematica fornecesse uma media aritmetica igual a R$104.00. Encontre a media aritmetica combinada.\n",
    "n1 = 10\n",
    "n2 = 8\n",
    "x1 = 95\n",
    "x2 = 104\n",
    "mac = (n1*x1 + n2*x2)/(n1+n2)\n",
    "print('a media aritmetica combinada eh:', mac)"
   ]
  },
  {
   "cell_type": "code",
   "execution_count": 44,
   "metadata": {},
   "outputs": [
    {
     "name": "stdout",
     "output_type": "stream",
     "text": [
      "a media aritmetica para os alunos de administracao eh: 155.4\n"
     ]
    }
   ],
   "source": [
    "#vinte alunos de administracao e dezoito de economia vao jogar boliche. a media aritmetica para dezoito alunos de economia eh\n",
    "#igual a 144 e para toda a turma eh igual a 150. encontre a media aritmetica correspondente aos alunos de administracao.\n",
    "n1 = 20\n",
    "n2 = 18\n",
    "x2 = 144\n",
    "mac = 150\n",
    "x1 = (mac * (n1+n2) - (n2*x2))/n1\n",
    "print('a media aritmetica para os alunos de administracao eh:', x1)"
   ]
  }
 ],
 "metadata": {
  "kernelspec": {
   "display_name": "Python 3",
   "language": "python",
   "name": "python3"
  },
  "language_info": {
   "codemirror_mode": {
    "name": "ipython",
    "version": 3
   },
   "file_extension": ".py",
   "mimetype": "text/x-python",
   "name": "python",
   "nbconvert_exporter": "python",
   "pygments_lexer": "ipython3",
   "version": "3.8.3"
  }
 },
 "nbformat": 4,
 "nbformat_minor": 4
}
