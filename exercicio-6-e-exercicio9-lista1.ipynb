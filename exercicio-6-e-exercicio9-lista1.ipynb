{
 "cells": [
  {
   "cell_type": "code",
   "execution_count": 55,
   "metadata": {},
   "outputs": [],
   "source": [
    "import numpy as np\n",
    "import pandas as pd\n",
    "import matplotlib.pyplot as plt"
   ]
  },
  {
   "cell_type": "code",
   "execution_count": 44,
   "metadata": {},
   "outputs": [],
   "source": [
    "classe1 = [0,99]\n",
    "classe2 = [100,199]\n",
    "classe3 = [200,299]\n",
    "classe4 = [300,399]\n",
    "classe5 = [400,499]"
   ]
  },
  {
   "cell_type": "code",
   "execution_count": 45,
   "metadata": {},
   "outputs": [],
   "source": [
    "def fronteiras(classe):\n",
    "    return[float(classe[0]-0.5),float(classe[1]+0.5)]"
   ]
  },
  {
   "cell_type": "code",
   "execution_count": 46,
   "metadata": {},
   "outputs": [],
   "source": [
    "def ponto_medio(classe):\n",
    "    return(float(fronteiras(classe)[0] + fronteiras(classe)[1])/2)"
   ]
  },
  {
   "cell_type": "code",
   "execution_count": 47,
   "metadata": {},
   "outputs": [],
   "source": [
    "def amplitude(classe):\n",
    "    return(float(fronteiras(classe)[1]) - fronteiras(classe)[0])"
   ]
  },
  {
   "cell_type": "code",
   "execution_count": 48,
   "metadata": {},
   "outputs": [
    {
     "name": "stdout",
     "output_type": "stream",
     "text": [
      "o valor da amplitude eh: 100.0\n",
      "o valor da amplitude eh: 100.0\n",
      "o valor da amplitude eh: 100.0\n",
      "o valor da amplitude eh: 100.0\n",
      "o valor da amplitude eh: 100.0\n"
     ]
    }
   ],
   "source": [
    "amplitudes = [amplitude(classe1),amplitude(classe2),amplitude(classe3),amplitude(classe4),amplitude(classe5)]\n",
    "for i in amplitudes:\n",
    "    print('o valor da amplitude eh:', i)"
   ]
  },
  {
   "cell_type": "code",
   "execution_count": 49,
   "metadata": {},
   "outputs": [],
   "source": [
    "alunos = [39,21,18,15,7]\n",
    "porcentagens = []\n",
    "freq_relativa = []\n",
    "for i in alunos:\n",
    "    porcentagens.append(round(i/(sum(alunos))*100, 2))\n",
    "    freq_relativa.append(round(i/sum(alunos),2))"
   ]
  },
  {
   "cell_type": "code",
   "execution_count": 108,
   "metadata": {},
   "outputs": [],
   "source": [
    "dados = np.array([['0-99',porcentagens[0],freq_relativa[0]],\n",
    "                 ['100-199',porcentagens[1],freq_relativa[1]],\n",
    "                 ['200-299',porcentagens[2],freq_relativa[2]],\n",
    "                 ['300-399',porcentagens[3],freq_relativa[3]],\n",
    "                 ['400-499',porcentagens[4],freq_relativa[4]]])"
   ]
  },
  {
   "cell_type": "code",
   "execution_count": 109,
   "metadata": {},
   "outputs": [],
   "source": [
    "df = pd.DataFrame(dados, columns = ['classes','porcentagens','freq_relativa'])"
   ]
  },
  {
   "cell_type": "code",
   "execution_count": 110,
   "metadata": {},
   "outputs": [
    {
     "data": {
      "text/html": [
       "<div>\n",
       "<style scoped>\n",
       "    .dataframe tbody tr th:only-of-type {\n",
       "        vertical-align: middle;\n",
       "    }\n",
       "\n",
       "    .dataframe tbody tr th {\n",
       "        vertical-align: top;\n",
       "    }\n",
       "\n",
       "    .dataframe thead th {\n",
       "        text-align: right;\n",
       "    }\n",
       "</style>\n",
       "<table border=\"1\" class=\"dataframe\">\n",
       "  <thead>\n",
       "    <tr style=\"text-align: right;\">\n",
       "      <th></th>\n",
       "      <th>classes</th>\n",
       "      <th>porcentagens</th>\n",
       "      <th>freq_relativa</th>\n",
       "    </tr>\n",
       "  </thead>\n",
       "  <tbody>\n",
       "    <tr>\n",
       "      <th>0</th>\n",
       "      <td>0-99</td>\n",
       "      <td>39.0</td>\n",
       "      <td>0.39</td>\n",
       "    </tr>\n",
       "    <tr>\n",
       "      <th>1</th>\n",
       "      <td>100-199</td>\n",
       "      <td>21.0</td>\n",
       "      <td>0.21</td>\n",
       "    </tr>\n",
       "    <tr>\n",
       "      <th>2</th>\n",
       "      <td>200-299</td>\n",
       "      <td>18.0</td>\n",
       "      <td>0.18</td>\n",
       "    </tr>\n",
       "    <tr>\n",
       "      <th>3</th>\n",
       "      <td>300-399</td>\n",
       "      <td>15.0</td>\n",
       "      <td>0.15</td>\n",
       "    </tr>\n",
       "    <tr>\n",
       "      <th>4</th>\n",
       "      <td>400-499</td>\n",
       "      <td>7.0</td>\n",
       "      <td>0.07</td>\n",
       "    </tr>\n",
       "  </tbody>\n",
       "</table>\n",
       "</div>"
      ],
      "text/plain": [
       "   classes porcentagens freq_relativa\n",
       "0     0-99         39.0          0.39\n",
       "1  100-199         21.0          0.21\n",
       "2  200-299         18.0          0.18\n",
       "3  300-399         15.0          0.15\n",
       "4  400-499          7.0          0.07"
      ]
     },
     "execution_count": 110,
     "metadata": {},
     "output_type": "execute_result"
    }
   ],
   "source": [
    "df"
   ]
  },
  {
   "cell_type": "code",
   "execution_count": 100,
   "metadata": {},
   "outputs": [
    {
     "name": "stdout",
     "output_type": "stream",
     "text": [
      "40.0\n"
     ]
    }
   ],
   "source": [
    "acima200 = porcentagens[2] + porcentagens[3] + porcentagens[4]\n",
    "print(acima200)"
   ]
  },
  {
   "cell_type": "code",
   "execution_count": 101,
   "metadata": {},
   "outputs": [],
   "source": [
    "porcentagem_acumulada = [porcentagens[0], sum(porcentagens[0:2]),\n",
    "                         sum(porcentagens[0:3]), sum(porcentagens[0:4]), sum(porcentagens[0:5])]\n",
    "print(porcentagem_acumulada)"
   ]
  },
  {
   "cell_type": "code",
   "execution_count": 103,
   "metadata": {},
   "outputs": [],
   "source": [
    "freq_relativa_acumulada = [freq_relativa[0], sum(freq_relativa[0:2]),\n",
    "                           sum(freq_relativa[0:3]), sum(freq_relativa[0:4]), sum(freq_relativa[0:5])]\n",
    "print(freq_relativa_acumulada )"
   ]
  },
  {
   "cell_type": "code",
   "execution_count": 105,
   "metadata": {},
   "outputs": [],
   "source": [
    "cheque_menos199 = porcentagem_acumulada[1]\n",
    "print(cheque_menos199)"
   ]
  },
  {
   "cell_type": "code",
   "execution_count": 121,
   "metadata": {},
   "outputs": [
    {
     "data": {
      "text/plain": [
       "([<matplotlib.axis.YTick at 0x202ca5e0d00>,\n",
       "  <matplotlib.axis.YTick at 0x202ca5e0910>,\n",
       "  <matplotlib.axis.YTick at 0x202ca5f6760>,\n",
       "  <matplotlib.axis.YTick at 0x202ca777bb0>,\n",
       "  <matplotlib.axis.YTick at 0x202ca785100>],\n",
       " [Text(0, 0, ''),\n",
       "  Text(0, 0, ''),\n",
       "  Text(0, 0, ''),\n",
       "  Text(0, 0, ''),\n",
       "  Text(0, 0, '')])"
      ]
     },
     "execution_count": 121,
     "metadata": {},
     "output_type": "execute_result"
    },
    {
     "data": {
      "image/png": "[encoded data removed]",
      "text/plain": [
       "<Figure size 432x288 with 1 Axes>"
      ]
     },
     "metadata": {
      "needs_background": "light"
     },
     "output_type": "display_data"
    }
   ],
   "source": [
    "plt.bar(df['classes'],porcentagem_acumulada)\n",
    "plt.yticks(porcentagem_acumulada)"
   ]
  },
  {
   "cell_type": "code",
   "execution_count": null,
   "metadata": {},
   "outputs": [],
   "source": []
  },
  {
   "cell_type": "code",
   "execution_count": null,
   "metadata": {},
   "outputs": [],
   "source": []
  }
 ],
 "metadata": {
  "kernelspec": {
   "display_name": "Python 3",
   "language": "python",
   "name": "python3"
  },
  "language_info": {
   "codemirror_mode": {
    "name": "ipython",
    "version": 3
   },
   "file_extension": ".py",
   "mimetype": "text/x-python",
   "name": "python",
   "nbconvert_exporter": "python",
   "pygments_lexer": "ipython3",
   "version": "3.8.3"
  }
 },
 "nbformat": 4,
 "nbformat_minor": 4
}
