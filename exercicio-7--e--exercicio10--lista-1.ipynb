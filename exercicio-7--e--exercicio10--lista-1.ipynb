{
 "cells": [
  {
   "cell_type": "code",
   "execution_count": 14,
   "metadata": {},
   "outputs": [],
   "source": [
    "import pandas as pd\n",
    "import numpy as np\n",
    "import matplotlib.pyplot as plt"
   ]
  },
  {
   "cell_type": "code",
   "execution_count": 2,
   "metadata": {},
   "outputs": [],
   "source": [
    "lista = [145,136,131,131,127,141,137,148,131,130,158,142,159,138,132]\n",
    "classe1 = []\n",
    "classe2 = []\n",
    "classe3 = []\n",
    "classe4 = []\n",
    "classe5 = []\n",
    "classe6 = []"
   ]
  },
  {
   "cell_type": "code",
   "execution_count": 3,
   "metadata": {},
   "outputs": [],
   "source": [
    "for i in lista:\n",
    "    if 125<=i<=130:\n",
    "        classe1.append(i)\n",
    "    elif 131<=i<=136:\n",
    "        classe2.append(i)\n",
    "    elif 137<=i<=142:\n",
    "        classe3.append(i)\n",
    "    elif 143<=i<=148:\n",
    "        classe4.append(i)\n",
    "    elif 149<=i<=153:\n",
    "        classe5.append(i)\n",
    "    else:\n",
    "        classe6.append(i)"
   ]
  },
  {
   "cell_type": "code",
   "execution_count": 4,
   "metadata": {},
   "outputs": [],
   "source": [
    "def calc_ocorrencias(classe):\n",
    "    return(int((len(classe))))"
   ]
  },
  {
   "cell_type": "code",
   "execution_count": 5,
   "metadata": {},
   "outputs": [],
   "source": [
    "classes = [classe1,classe2,classe3,classe4,classe5,classe6]\n",
    "porcentagens = []\n",
    "freq_relativa = []\n",
    "for v in classes:\n",
    "    porcentagens.append(round(calc_ocorrencias(v)/calc_ocorrencias(lista)*100, 2))\n",
    "    freq_relativa.append(round(calc_ocorrencias(v)/calc_ocorrencias(lista),2))"
   ]
  },
  {
   "cell_type": "code",
   "execution_count": 6,
   "metadata": {},
   "outputs": [],
   "source": [
    "dados = np.array([['125-130',calc_ocorrencias(classe1),porcentagens[0],freq_relativa[0]],\n",
    "                 ['131-136',calc_ocorrencias(classe2),porcentagens[1],freq_relativa[1]],\n",
    "                 ['137-142',calc_ocorrencias(classe3),porcentagens[2],freq_relativa[2]],\n",
    "                 ['143-148',calc_ocorrencias(classe4),porcentagens[3],freq_relativa[3]],\n",
    "                 ['149-154',calc_ocorrencias(classe5),porcentagens[4],freq_relativa[4]],\n",
    "                 ['155-160',calc_ocorrencias(classe6),porcentagens[5],freq_relativa[5]]])"
   ]
  },
  {
   "cell_type": "code",
   "execution_count": 7,
   "metadata": {},
   "outputs": [],
   "source": [
    "df = pd.DataFrame(dados, columns = ['classes','ocorrencias','porcentagens','freq_relativa'])"
   ]
  },
  {
   "cell_type": "code",
   "execution_count": 8,
   "metadata": {},
   "outputs": [
    {
     "data": {
      "text/html": [
       "<div>\n",
       "<style scoped>\n",
       "    .dataframe tbody tr th:only-of-type {\n",
       "        vertical-align: middle;\n",
       "    }\n",
       "\n",
       "    .dataframe tbody tr th {\n",
       "        vertical-align: top;\n",
       "    }\n",
       "\n",
       "    .dataframe thead th {\n",
       "        text-align: right;\n",
       "    }\n",
       "</style>\n",
       "<table border=\"1\" class=\"dataframe\">\n",
       "  <thead>\n",
       "    <tr style=\"text-align: right;\">\n",
       "      <th></th>\n",
       "      <th>classes</th>\n",
       "      <th>ocorrencias</th>\n",
       "      <th>porcentagens</th>\n",
       "      <th>freq_relativa</th>\n",
       "    </tr>\n",
       "  </thead>\n",
       "  <tbody>\n",
       "    <tr>\n",
       "      <th>0</th>\n",
       "      <td>125-130</td>\n",
       "      <td>2</td>\n",
       "      <td>13.33</td>\n",
       "      <td>0.13</td>\n",
       "    </tr>\n",
       "    <tr>\n",
       "      <th>1</th>\n",
       "      <td>131-136</td>\n",
       "      <td>5</td>\n",
       "      <td>33.33</td>\n",
       "      <td>0.33</td>\n",
       "    </tr>\n",
       "    <tr>\n",
       "      <th>2</th>\n",
       "      <td>137-142</td>\n",
       "      <td>4</td>\n",
       "      <td>26.67</td>\n",
       "      <td>0.27</td>\n",
       "    </tr>\n",
       "    <tr>\n",
       "      <th>3</th>\n",
       "      <td>143-148</td>\n",
       "      <td>2</td>\n",
       "      <td>13.33</td>\n",
       "      <td>0.13</td>\n",
       "    </tr>\n",
       "    <tr>\n",
       "      <th>4</th>\n",
       "      <td>149-154</td>\n",
       "      <td>0</td>\n",
       "      <td>0.0</td>\n",
       "      <td>0.0</td>\n",
       "    </tr>\n",
       "    <tr>\n",
       "      <th>5</th>\n",
       "      <td>155-160</td>\n",
       "      <td>2</td>\n",
       "      <td>13.33</td>\n",
       "      <td>0.13</td>\n",
       "    </tr>\n",
       "  </tbody>\n",
       "</table>\n",
       "</div>"
      ],
      "text/plain": [
       "   classes ocorrencias porcentagens freq_relativa\n",
       "0  125-130           2        13.33          0.13\n",
       "1  131-136           5        33.33          0.33\n",
       "2  137-142           4        26.67          0.27\n",
       "3  143-148           2        13.33          0.13\n",
       "4  149-154           0          0.0           0.0\n",
       "5  155-160           2        13.33          0.13"
      ]
     },
     "execution_count": 8,
     "metadata": {},
     "output_type": "execute_result"
    }
   ],
   "source": [
    "df"
   ]
  },
  {
   "cell_type": "code",
   "execution_count": 9,
   "metadata": {},
   "outputs": [
    {
     "name": "stdout",
     "output_type": "stream",
     "text": [
      "53.33\n"
     ]
    }
   ],
   "source": [
    "receita_acima137 = porcentagens[2] + porcentagens[3] + porcentagens[4] + porcentagens[5]\n",
    "print(receita_acima137)"
   ]
  },
  {
   "cell_type": "code",
   "execution_count": 11,
   "metadata": {},
   "outputs": [
    {
     "name": "stdout",
     "output_type": "stream",
     "text": [
      "[13.33, 46.66, 73.33, 86.66, 86.66, 99.99]\n"
     ]
    }
   ],
   "source": [
    "porcentagem_acumulada = [porcentagens[0], sum(porcentagens[0:2]),\n",
    "                         sum(porcentagens[0:3]), sum(porcentagens[0:4]), sum(porcentagens[0:5]),sum(porcentagens[0:6])]\n",
    "print(porcentagem_acumulada)"
   ]
  },
  {
   "cell_type": "code",
   "execution_count": 12,
   "metadata": {},
   "outputs": [
    {
     "name": "stdout",
     "output_type": "stream",
     "text": [
      "[0.13, 0.46, 0.73, 0.86, 0.86, 0.99]\n"
     ]
    }
   ],
   "source": [
    "freq_relativa_acumulada = [freq_relativa[0], sum(freq_relativa[0:2]),\n",
    "                           sum(freq_relativa[0:3]), sum(freq_relativa[0:4]), sum(freq_relativa[0:5]),sum(freq_relativa[0:6])]\n",
    "print(freq_relativa_acumulada )"
   ]
  },
  {
   "cell_type": "code",
   "execution_count": 15,
   "metadata": {},
   "outputs": [
    {
     "data": {
      "text/plain": [
       "([<matplotlib.axis.YTick at 0x1abc31adc40>,\n",
       "  <matplotlib.axis.YTick at 0x1abc31ad7f0>,\n",
       "  <matplotlib.axis.YTick at 0x1abc31a9610>,\n",
       "  <matplotlib.axis.YTick at 0x1abc31fbdf0>,\n",
       "  <matplotlib.axis.YTick at 0x1abc320b190>,\n",
       "  <matplotlib.axis.YTick at 0x1abc320b6a0>],\n",
       " [Text(0, 0, ''),\n",
       "  Text(0, 0, ''),\n",
       "  Text(0, 0, ''),\n",
       "  Text(0, 0, ''),\n",
       "  Text(0, 0, ''),\n",
       "  Text(0, 0, '')])"
      ]
     },
     "execution_count": 15,
     "metadata": {},
     "output_type": "execute_result"
    },
    {
     "data": {
      "image/png": "[encoded data removed]",
      "text/plain": [
       "<Figure size 432x288 with 1 Axes>"
      ]
     },
     "metadata": {
      "needs_background": "light"
     },
     "output_type": "display_data"
    }
   ],
   "source": [
    "plt.bar(df['classes'],porcentagem_acumulada)\n",
    "plt.yticks(porcentagem_acumulada)"
   ]
  },
  {
   "cell_type": "code",
   "execution_count": null,
   "metadata": {},
   "outputs": [],
   "source": []
  }
 ],
 "metadata": {
  "kernelspec": {
   "display_name": "Python 3",
   "language": "python",
   "name": "python3"
  },
  "language_info": {
   "codemirror_mode": {
    "name": "ipython",
    "version": 3
   },
   "file_extension": ".py",
   "mimetype": "text/x-python",
   "name": "python",
   "nbconvert_exporter": "python",
   "pygments_lexer": "ipython3",
   "version": "3.8.3"
  }
 },
 "nbformat": 4,
 "nbformat_minor": 4
}
